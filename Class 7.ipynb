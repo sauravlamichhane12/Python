{
 "cells": [
  {
   "cell_type": "code",
   "execution_count": 80,
   "id": "6ec4743c",
   "metadata": {},
   "outputs": [],
   "source": [
    "class Person:\n",
    "    def __init__(self, name, age, sex, atm_pin =123, houses=0):\n",
    "        self.name=name #Public Variables\n",
    "        self.age=age   #Public Variables\n",
    "        self.gender=sex \n",
    "        self.__pin = atm_pin #private variables\n",
    "        self._houses = houses #Emulating Protected varaibles\n",
    "    def display_information(self, ):\n",
    "        message=f\"\"\"\n",
    "        hello, I am {self.name}, I am {self.age} years old,\n",
    "        I am {self.gender}, i have {self._houses} and my atm pin is {self.__pin}\n",
    "        \"\"\"\n",
    "        print(message)"
   ]
  },
  {
   "cell_type": "code",
   "execution_count": 81,
   "id": "0be41c8c",
   "metadata": {},
   "outputs": [],
   "source": [
    "p1 = Person('Hari Bahadur', 50, 'male', 5656, 2)"
   ]
  },
  {
   "cell_type": "code",
   "execution_count": 82,
   "id": "2d51439e",
   "metadata": {},
   "outputs": [
    {
     "data": {
      "text/plain": [
       "'Hari Bahadur'"
      ]
     },
     "execution_count": 82,
     "metadata": {},
     "output_type": "execute_result"
    }
   ],
   "source": [
    "p1.name"
   ]
  },
  {
   "cell_type": "code",
   "execution_count": 83,
   "id": "32bfa143",
   "metadata": {},
   "outputs": [
    {
     "name": "stdout",
     "output_type": "stream",
     "text": [
      "\n",
      "        hello, I am Hari Bahadur, I am 50 years old,\n",
      "        I am male, i have 2 and my atm pin is 5656\n",
      "        \n"
     ]
    }
   ],
   "source": [
    "p1.display_information()"
   ]
  },
  {
   "cell_type": "code",
   "execution_count": 84,
   "id": "9be8ecb5",
   "metadata": {},
   "outputs": [],
   "source": [
    "p2 = Person('Radhe pyari', 45, 'Female', 5678, 89)"
   ]
  },
  {
   "cell_type": "code",
   "execution_count": 85,
   "id": "f10be38f",
   "metadata": {},
   "outputs": [
    {
     "data": {
      "text/plain": [
       "'Radhe pyari'"
      ]
     },
     "execution_count": 85,
     "metadata": {},
     "output_type": "execute_result"
    }
   ],
   "source": [
    "p2.name"
   ]
  },
  {
   "cell_type": "code",
   "execution_count": 86,
   "id": "f163e146",
   "metadata": {},
   "outputs": [],
   "source": [
    "p2.name='Radha Piyari'"
   ]
  },
  {
   "cell_type": "code",
   "execution_count": 87,
   "id": "21d6e9be",
   "metadata": {},
   "outputs": [
    {
     "data": {
      "text/plain": [
       "'Radha Piyari'"
      ]
     },
     "execution_count": 87,
     "metadata": {},
     "output_type": "execute_result"
    }
   ],
   "source": [
    "p2.name"
   ]
  },
  {
   "cell_type": "code",
   "execution_count": 14,
   "id": "d71a6245",
   "metadata": {},
   "outputs": [],
   "source": [
    "class Vechicle:\n",
    "    def __init__(self, car, wheels, seats, modelyear, ownername):\n",
    "        self.Car=car\n",
    "        self.Wheels = wheels\n",
    "        self.Seats = seats\n",
    "        self.Modelyear = modelyear\n",
    "        self.Ownername = ownername\n",
    "    def display_info(self, ):\n",
    "        Message=f'''My car is {self.Car},It has {self.Wheels} wheels, and it has {self.Seats} seats. In the year {self.Modelyear} has made owned by {self.Ownername}\n",
    "        '''\n",
    "        print(Message)"
   ]
  },
  {
   "cell_type": "code",
   "execution_count": 15,
   "id": "b8defb13",
   "metadata": {},
   "outputs": [],
   "source": [
    "c1 = Vechicle('Hyundai', 4, 3, 2013, 'saurav')"
   ]
  },
  {
   "cell_type": "code",
   "execution_count": 17,
   "id": "e87dd75a",
   "metadata": {},
   "outputs": [
    {
     "name": "stdout",
     "output_type": "stream",
     "text": [
      "My car is Hyundai,It has 4 wheels, and it has 3 seats. In the year 2013 has made owned by saurav\n",
      "        \n"
     ]
    }
   ],
   "source": [
    "c1.display_info()"
   ]
  },
  {
   "cell_type": "code",
   "execution_count": 124,
   "id": "db71440c",
   "metadata": {},
   "outputs": [
    {
     "data": {
      "text/plain": [
       "<__main__.Vechicle at 0x7f8deef33040>"
      ]
     },
     "execution_count": 124,
     "metadata": {},
     "output_type": "execute_result"
    }
   ],
   "source": [
    "c1"
   ]
  },
  {
   "cell_type": "code",
   "execution_count": 2,
   "id": "9a1d0109",
   "metadata": {},
   "outputs": [],
   "source": [
    "class person:\n",
    "    def __init__(self, name, age):\n",
    "        self.name = name\n",
    "        self.age = age\n",
    "p1 = person('saurav', 24)"
   ]
  },
  {
   "cell_type": "code",
   "execution_count": 5,
   "id": "06b6742a",
   "metadata": {},
   "outputs": [
    {
     "name": "stdout",
     "output_type": "stream",
     "text": [
      "saurav\n",
      "24\n"
     ]
    }
   ],
   "source": [
    "print(p1.name)\n",
    "print(p1.age)"
   ]
  },
  {
   "cell_type": "code",
   "execution_count": 6,
   "id": "1ccbd0fd",
   "metadata": {},
   "outputs": [],
   "source": [
    "class abc:\n",
    "    def __init__(self, name, gender):\n",
    "        self.name=name\n",
    "        self.gender= gender\n",
    "p1 = abc('saurav', 'male')"
   ]
  },
  {
   "cell_type": "code",
   "execution_count": 7,
   "id": "56b37536",
   "metadata": {},
   "outputs": [
    {
     "name": "stdout",
     "output_type": "stream",
     "text": [
      "saurav\n"
     ]
    }
   ],
   "source": [
    "print(p1.name)"
   ]
  },
  {
   "cell_type": "code",
   "execution_count": 8,
   "id": "b6670c70",
   "metadata": {},
   "outputs": [
    {
     "name": "stdout",
     "output_type": "stream",
     "text": [
      "male\n"
     ]
    }
   ],
   "source": [
    "print(p1.gender)"
   ]
  },
  {
   "cell_type": "code",
   "execution_count": 74,
   "id": "339935c8",
   "metadata": {},
   "outputs": [],
   "source": [
    "class person1:\n",
    "    def __init__(self, name, gender):\n",
    "        self.name=name\n",
    "        self.gender= gender\n",
    "    def __str__(self):\n",
    "        message=f'I am {self.gender} old and my name is {self.name}'\n",
    "        return message\n"
   ]
  },
  {
   "cell_type": "code",
   "execution_count": 75,
   "id": "d8237de4",
   "metadata": {},
   "outputs": [],
   "source": [
    "p1 = person1('saurav', 'hello')"
   ]
  },
  {
   "cell_type": "code",
   "execution_count": 76,
   "id": "34571eca",
   "metadata": {},
   "outputs": [
    {
     "name": "stdout",
     "output_type": "stream",
     "text": [
      "I am hello old and my name is saurav\n"
     ]
    }
   ],
   "source": [
    "print(p1)"
   ]
  },
  {
   "cell_type": "code",
   "execution_count": 7,
   "id": "a0718515",
   "metadata": {},
   "outputs": [],
   "source": [
    "class person2:\n",
    "    def __init__(self, sex, name):\n",
    "        self.sex= sex\n",
    "        self.name= name\n",
    "    def myfunc(self):\n",
    "        message=f'My sex is {self.sex} and name is {self.name}'\n",
    "        return message"
   ]
  },
  {
   "cell_type": "code",
   "execution_count": 8,
   "id": "29682422",
   "metadata": {},
   "outputs": [],
   "source": [
    "p = person2('male', 'harry')"
   ]
  },
  {
   "cell_type": "code",
   "execution_count": 9,
   "id": "5e2bb3d5",
   "metadata": {},
   "outputs": [
    {
     "name": "stdout",
     "output_type": "stream",
     "text": [
      "My sex is male and name is harry\n"
     ]
    }
   ],
   "source": [
    "print(p.myfunc())\n"
   ]
  },
  {
   "cell_type": "code",
   "execution_count": null,
   "id": "269f4b62",
   "metadata": {},
   "outputs": [],
   "source": []
  }
 ],
 "metadata": {
  "kernelspec": {
   "display_name": "Python 3 (ipykernel)",
   "language": "python",
   "name": "python3"
  },
  "language_info": {
   "codemirror_mode": {
    "name": "ipython",
    "version": 3
   },
   "file_extension": ".py",
   "mimetype": "text/x-python",
   "name": "python",
   "nbconvert_exporter": "python",
   "pygments_lexer": "ipython3",
   "version": "3.9.7"
  }
 },
 "nbformat": 4,
 "nbformat_minor": 5
}
