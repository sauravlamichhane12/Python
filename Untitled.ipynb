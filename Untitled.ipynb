{
 "cells": [
  {
   "cell_type": "code",
   "execution_count": 1,
   "id": "ab0a1e21",
   "metadata": {},
   "outputs": [],
   "source": [
    "def fun(x):\n",
    "    if (x==0 or x==1):\n",
    "        return x\n",
    "    else:\n",
    "        return (fun(x-1) + fun(x-2))\n",
    "        "
   ]
  },
  {
   "cell_type": "code",
   "execution_count": 6,
   "id": "a7b6abd4",
   "metadata": {},
   "outputs": [
    {
     "name": "stdout",
     "output_type": "stream",
     "text": [
      "Enter your number9\n",
      "0\n",
      "1\n",
      "1\n",
      "2\n",
      "3\n",
      "5\n",
      "8\n",
      "13\n",
      "21\n"
     ]
    }
   ],
   "source": [
    "num = int(input('Enter your number'))\n",
    "for i in range(num):\n",
    "    print(fun(i))\n"
   ]
  },
  {
   "cell_type": "code",
   "execution_count": 9,
   "id": "ae23c305",
   "metadata": {},
   "outputs": [],
   "source": [
    "def func(x):\n",
    "    x=str(x)\n",
    "    x=x[::-1]\n",
    "    x=int(x)\n",
    "    return x"
   ]
  },
  {
   "cell_type": "code",
   "execution_count": 27,
   "id": "96677f2c",
   "metadata": {},
   "outputs": [
    {
     "name": "stdout",
     "output_type": "stream",
     "text": [
      "ENter your number:34567\n",
      "the reverse of 34567 is 76543\n"
     ]
    }
   ],
   "source": [
    "y=int(input('ENter your number:'))\n",
    "print ('the reverse of' ,y, 'is', func(y))"
   ]
  },
  {
   "cell_type": "code",
   "execution_count": 23,
   "id": "c9ff8995",
   "metadata": {},
   "outputs": [
    {
     "data": {
      "text/plain": [
       "'fds'"
      ]
     },
     "execution_count": 23,
     "metadata": {},
     "output_type": "execute_result"
    }
   ],
   "source": [
    "a='sdf'\n",
    "a[::-1]"
   ]
  },
  {
   "cell_type": "code",
   "execution_count": 28,
   "id": "c95afb07",
   "metadata": {},
   "outputs": [],
   "source": [
    "l=[1, 2, 3]"
   ]
  },
  {
   "cell_type": "code",
   "execution_count": 29,
   "id": "515a2735",
   "metadata": {},
   "outputs": [
    {
     "data": {
      "text/plain": [
       "1"
      ]
     },
     "execution_count": 29,
     "metadata": {},
     "output_type": "execute_result"
    }
   ],
   "source": [
    "l[0]"
   ]
  },
  {
   "cell_type": "code",
   "execution_count": 30,
   "id": "a2e332d4",
   "metadata": {},
   "outputs": [
    {
     "data": {
      "text/plain": [
       "True"
      ]
     },
     "execution_count": 30,
     "metadata": {},
     "output_type": "execute_result"
    }
   ],
   "source": [
    "3 in l"
   ]
  },
  {
   "cell_type": "code",
   "execution_count": 31,
   "id": "d0942a93",
   "metadata": {},
   "outputs": [],
   "source": [
    "a='true'"
   ]
  },
  {
   "cell_type": "code",
   "execution_count": 32,
   "id": "f477541d",
   "metadata": {},
   "outputs": [
    {
     "data": {
      "text/plain": [
       "True"
      ]
     },
     "execution_count": 32,
     "metadata": {},
     "output_type": "execute_result"
    }
   ],
   "source": [
    "'t' in a"
   ]
  },
  {
   "cell_type": "code",
   "execution_count": 33,
   "id": "237b055a",
   "metadata": {},
   "outputs": [],
   "source": [
    "a=('abc', 'aeiuri', 'er')"
   ]
  },
  {
   "cell_type": "code",
   "execution_count": 34,
   "id": "bc85a4a9",
   "metadata": {},
   "outputs": [
    {
     "name": "stdout",
     "output_type": "stream",
     "text": [
      "true\n"
     ]
    }
   ],
   "source": [
    "if 'abc' in a:\n",
    "    print('true')\n",
    "else:\n",
    "    print('false')"
   ]
  },
  {
   "cell_type": "code",
   "execution_count": 36,
   "id": "42796191",
   "metadata": {},
   "outputs": [],
   "source": [
    "l =[1, 2, 3]"
   ]
  },
  {
   "cell_type": "code",
   "execution_count": 39,
   "id": "bd44f3b4",
   "metadata": {},
   "outputs": [
    {
     "name": "stdout",
     "output_type": "stream",
     "text": [
      "1\n",
      "2\n",
      "3\n"
     ]
    }
   ],
   "source": [
    "for i in range(len(l)):\n",
    "    print(l[i])"
   ]
  },
  {
   "cell_type": "code",
   "execution_count": 40,
   "id": "c6ba2927",
   "metadata": {},
   "outputs": [
    {
     "name": "stdout",
     "output_type": "stream",
     "text": [
      "[1, 2, 3]\n"
     ]
    }
   ],
   "source": [
    "print(l)"
   ]
  },
  {
   "cell_type": "code",
   "execution_count": 49,
   "id": "c4425922",
   "metadata": {},
   "outputs": [],
   "source": [
    "l = [11, 234, 5, 6]"
   ]
  },
  {
   "cell_type": "code",
   "execution_count": 51,
   "id": "f8234032",
   "metadata": {},
   "outputs": [],
   "source": [
    "l.sort()"
   ]
  },
  {
   "cell_type": "code",
   "execution_count": 52,
   "id": "eb7a333e",
   "metadata": {},
   "outputs": [
    {
     "name": "stdout",
     "output_type": "stream",
     "text": [
      "[5, 6, 11, 234]\n"
     ]
    }
   ],
   "source": [
    "print(l)"
   ]
  },
  {
   "cell_type": "code",
   "execution_count": 47,
   "id": "61dfbb49",
   "metadata": {},
   "outputs": [
    {
     "name": "stdout",
     "output_type": "stream",
     "text": [
      "None\n"
     ]
    }
   ],
   "source": [
    "print(l.sort(reverse=True))"
   ]
  },
  {
   "cell_type": "code",
   "execution_count": 46,
   "id": "d816fa62",
   "metadata": {},
   "outputs": [
    {
     "data": {
      "text/plain": [
       "[234, 11, 6, 5]"
      ]
     },
     "execution_count": 46,
     "metadata": {},
     "output_type": "execute_result"
    }
   ],
   "source": [
    "l"
   ]
  },
  {
   "cell_type": "code",
   "execution_count": null,
   "id": "d193009e",
   "metadata": {},
   "outputs": [],
   "source": []
  }
 ],
 "metadata": {
  "kernelspec": {
   "display_name": "Python 3 (ipykernel)",
   "language": "python",
   "name": "python3"
  },
  "language_info": {
   "codemirror_mode": {
    "name": "ipython",
    "version": 3
   },
   "file_extension": ".py",
   "mimetype": "text/x-python",
   "name": "python",
   "nbconvert_exporter": "python",
   "pygments_lexer": "ipython3",
   "version": "3.9.7"
  }
 },
 "nbformat": 4,
 "nbformat_minor": 5
}
