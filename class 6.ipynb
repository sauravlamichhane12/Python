{
 "cells": [
  {
   "cell_type": "code",
   "execution_count": 11,
   "id": "d84861eb",
   "metadata": {},
   "outputs": [],
   "source": [
    "#traditional way\n",
    "l = []\n",
    "for i in range(5):\n",
    "   l.append(i*i)"
   ]
  },
  {
   "cell_type": "code",
   "execution_count": 12,
   "id": "d0e70f62",
   "metadata": {},
   "outputs": [
    {
     "data": {
      "text/plain": [
       "[0, 1, 4, 9, 16]"
      ]
     },
     "execution_count": 12,
     "metadata": {},
     "output_type": "execute_result"
    }
   ],
   "source": [
    "l"
   ]
  },
  {
   "cell_type": "code",
   "execution_count": 15,
   "id": "fa7247e9",
   "metadata": {},
   "outputs": [
    {
     "data": {
      "text/plain": [
       "[0, 1, 4, 9, 16, 25]"
      ]
     },
     "execution_count": 15,
     "metadata": {},
     "output_type": "execute_result"
    }
   ],
   "source": [
    "#pythn way\n",
    "[i * i for i in range(6)]"
   ]
  },
  {
   "cell_type": "code",
   "execution_count": 16,
   "id": "de0b1821",
   "metadata": {},
   "outputs": [],
   "source": [
    "#Function\n",
    "h = 4\n",
    "l = 8\n",
    "b = 6\n",
    "area = 2*h*(l*b)"
   ]
  },
  {
   "cell_type": "code",
   "execution_count": 17,
   "id": "1b58ad04",
   "metadata": {},
   "outputs": [
    {
     "data": {
      "text/plain": [
       "384"
      ]
     },
     "execution_count": 17,
     "metadata": {},
     "output_type": "execute_result"
    }
   ],
   "source": [
    "area"
   ]
  },
  {
   "cell_type": "code",
   "execution_count": 18,
   "id": "78b641ac",
   "metadata": {},
   "outputs": [],
   "source": [
    "def area_of_four_walls(h, l, b):\n",
    "    area = 2*h*(l+b)\n",
    "    print(area)"
   ]
  },
  {
   "cell_type": "code",
   "execution_count": 19,
   "id": "cbec1836",
   "metadata": {},
   "outputs": [
    {
     "name": "stdout",
     "output_type": "stream",
     "text": [
      "120\n"
     ]
    }
   ],
   "source": [
    "area_of_four_walls(h=4, l=7, b =8)"
   ]
  },
  {
   "cell_type": "code",
   "execution_count": 78,
   "id": "35bc50cd",
   "metadata": {},
   "outputs": [],
   "source": [
    "def area_of_circle(r):\n",
    "    area =22/7*r*r\n",
    "    perimeter=(2*22/7*r)\n",
    "    print(area)\n",
    "    print(perimeter)"
   ]
  },
  {
   "cell_type": "code",
   "execution_count": 79,
   "id": "72a89dab",
   "metadata": {},
   "outputs": [
    {
     "name": "stdout",
     "output_type": "stream",
     "text": [
      "154.0\n",
      "44.0\n"
     ]
    }
   ],
   "source": [
    "area_of_circle(7)"
   ]
  },
  {
   "cell_type": "code",
   "execution_count": 80,
   "id": "5cbddb25",
   "metadata": {},
   "outputs": [],
   "source": [
    "def greet_somebody(name):\n",
    "    message=f'kaakragulation, succesfull people {name}'\n",
    "    return message"
   ]
  },
  {
   "cell_type": "code",
   "execution_count": 81,
   "id": "5f28cdfe",
   "metadata": {},
   "outputs": [],
   "source": [
    "greeting_message = greet_somebody('Hari Bahadur')"
   ]
  },
  {
   "cell_type": "code",
   "execution_count": 82,
   "id": "d01baf9f",
   "metadata": {},
   "outputs": [
    {
     "data": {
      "text/plain": [
       "'kaakragulation, succesfull people Hari Bahadur'"
      ]
     },
     "execution_count": 82,
     "metadata": {},
     "output_type": "execute_result"
    }
   ],
   "source": [
    "greeting_message"
   ]
  },
  {
   "cell_type": "code",
   "execution_count": 83,
   "id": "8e222ec7",
   "metadata": {},
   "outputs": [],
   "source": [
    "a = 5*6"
   ]
  },
  {
   "cell_type": "code",
   "execution_count": 84,
   "id": "da93ef16",
   "metadata": {},
   "outputs": [
    {
     "data": {
      "text/plain": [
       "30"
      ]
     },
     "execution_count": 84,
     "metadata": {},
     "output_type": "execute_result"
    }
   ],
   "source": [
    "a"
   ]
  },
  {
   "cell_type": "code",
   "execution_count": 99,
   "id": "8cdf8285",
   "metadata": {},
   "outputs": [],
   "source": [
    "def circle(r):\n",
    "    area = 22/7 * r\n",
    "    perimeter= 2*22/7 *r\n",
    "    return area, perimeter"
   ]
  },
  {
   "cell_type": "code",
   "execution_count": 100,
   "id": "858fe11f",
   "metadata": {},
   "outputs": [
    {
     "data": {
      "text/plain": [
       "(15.714285714285714, 31.428571428571427)"
      ]
     },
     "execution_count": 100,
     "metadata": {},
     "output_type": "execute_result"
    }
   ],
   "source": [
    "circle(5)"
   ]
  },
  {
   "cell_type": "code",
   "execution_count": 159,
   "id": "cb4a3cf3",
   "metadata": {},
   "outputs": [],
   "source": [
    "def cal(a,b):\n",
    "    add = a+b\n",
    "    sub=a-b\n",
    "    mul= a*b\n",
    "    div= a/b\n",
    "    return add, sub, mul, div\n",
    "  \n"
   ]
  },
  {
   "cell_type": "code",
   "execution_count": 161,
   "id": "8206da03",
   "metadata": {},
   "outputs": [],
   "source": [
    "rslt = cal(6,7)"
   ]
  },
  {
   "cell_type": "code",
   "execution_count": 165,
   "id": "c6ad1964",
   "metadata": {},
   "outputs": [
    {
     "data": {
      "text/plain": [
       "(13, -1, 42, 0.8571428571428571)"
      ]
     },
     "execution_count": 165,
     "metadata": {},
     "output_type": "execute_result"
    }
   ],
   "source": [
    "rslt"
   ]
  },
  {
   "cell_type": "code",
   "execution_count": 162,
   "id": "9f331043",
   "metadata": {},
   "outputs": [],
   "source": [
    "new_add, new_sub, new_mul, new_div=cal(5,6)"
   ]
  },
  {
   "cell_type": "code",
   "execution_count": 163,
   "id": "c31cec62",
   "metadata": {},
   "outputs": [
    {
     "data": {
      "text/plain": [
       "11"
      ]
     },
     "execution_count": 163,
     "metadata": {},
     "output_type": "execute_result"
    }
   ],
   "source": [
    "new_add"
   ]
  },
  {
   "cell_type": "code",
   "execution_count": 164,
   "id": "092872c5",
   "metadata": {},
   "outputs": [
    {
     "name": "stdout",
     "output_type": "stream",
     "text": [
      "The addition of two number is: 11\n",
      "The subtraction of two number is: -1\n",
      "The multipilcation of two number is: 30\n",
      "The division of two number is: 0.8333333333333334\n"
     ]
    }
   ],
   "source": [
    "print('The addition of two number is:', new_add)\n",
    "print('The subtraction of two number is:', new_sub)\n",
    "print('The multipilcation of two number is:', new_mul)\n",
    "print('The division of two number is:', new_div)"
   ]
  },
  {
   "cell_type": "code",
   "execution_count": 107,
   "id": "a647e7df",
   "metadata": {},
   "outputs": [],
   "source": [
    "add = 5*6"
   ]
  },
  {
   "cell_type": "code",
   "execution_count": 108,
   "id": "aaa82409",
   "metadata": {},
   "outputs": [
    {
     "data": {
      "text/plain": [
       "30"
      ]
     },
     "execution_count": 108,
     "metadata": {},
     "output_type": "execute_result"
    }
   ],
   "source": [
    "add"
   ]
  },
  {
   "cell_type": "code",
   "execution_count": 129,
   "id": "b2ef68e1",
   "metadata": {},
   "outputs": [],
   "source": [
    "def calculate_age(age=5, status='alive'):\n",
    "    print(f'Age:{age}, Status:{status}')"
   ]
  },
  {
   "cell_type": "code",
   "execution_count": 130,
   "id": "4054b914",
   "metadata": {},
   "outputs": [
    {
     "name": "stdout",
     "output_type": "stream",
     "text": [
      "Age:115, Status:pass away\n"
     ]
    }
   ],
   "source": [
    "calculate_age(115, 'pass away')"
   ]
  },
  {
   "cell_type": "code",
   "execution_count": 131,
   "id": "e07a3b03",
   "metadata": {},
   "outputs": [
    {
     "name": "stdout",
     "output_type": "stream",
     "text": [
      "Age:40, Status:alive\n"
     ]
    }
   ],
   "source": [
    "calculate_age(40,'alive')"
   ]
  },
  {
   "cell_type": "code",
   "execution_count": 144,
   "id": "6774f133",
   "metadata": {},
   "outputs": [],
   "source": [
    "def somefunction(some_argument):\n",
    "    pass"
   ]
  },
  {
   "cell_type": "code",
   "execution_count": 145,
   "id": "f5068711",
   "metadata": {},
   "outputs": [],
   "source": [
    "def parent_function():\n",
    "    def child_function():\n",
    "        pass\n",
    "    def child_function2():\n",
    "        print(' function 2')\n",
    "    def child_function3():\n",
    "        print('child function')\n",
    "    child_function()\n",
    "    child_function2()\n",
    "    child_function3()\n",
    "        "
   ]
  },
  {
   "cell_type": "markdown",
   "id": "0abfdb20",
   "metadata": {},
   "source": [
    "##Convert degree F to degree C"
   ]
  },
  {
   "cell_type": "code",
   "execution_count": 150,
   "id": "aa54b86c",
   "metadata": {},
   "outputs": [],
   "source": [
    "def temperature_convert(temp):\n",
    "    degree_c= (temp-32)*10/18\n",
    "    return (degree_c)"
   ]
  },
  {
   "cell_type": "code",
   "execution_count": 151,
   "id": "f66cd1d2",
   "metadata": {},
   "outputs": [],
   "source": [
    "celcius = temperature_convert(10)"
   ]
  },
  {
   "cell_type": "code",
   "execution_count": 152,
   "id": "b346de45",
   "metadata": {},
   "outputs": [
    {
     "data": {
      "text/plain": [
       "-12.222222222222221"
      ]
     },
     "execution_count": 152,
     "metadata": {},
     "output_type": "execute_result"
    }
   ],
   "source": [
    "celcius"
   ]
  },
  {
   "cell_type": "code",
   "execution_count": 147,
   "id": "5ad81e31",
   "metadata": {},
   "outputs": [
    {
     "data": {
      "text/plain": [
       "36.612"
      ]
     },
     "execution_count": 147,
     "metadata": {},
     "output_type": "execute_result"
    }
   ],
   "source": [
    "round(celcius, 3)"
   ]
  },
  {
   "cell_type": "code",
   "execution_count": 148,
   "id": "66a03a44",
   "metadata": {},
   "outputs": [
    {
     "data": {
      "text/plain": [
       "5647.1235"
      ]
     },
     "execution_count": 148,
     "metadata": {},
     "output_type": "execute_result"
    }
   ],
   "source": [
    "a = 5647.1234567\n",
    "round(a,4)"
   ]
  },
  {
   "cell_type": "code",
   "execution_count": null,
   "id": "e53dd6cd",
   "metadata": {},
   "outputs": [],
   "source": []
  }
 ],
 "metadata": {
  "kernelspec": {
   "display_name": "Python 3 (ipykernel)",
   "language": "python",
   "name": "python3"
  },
  "language_info": {
   "codemirror_mode": {
    "name": "ipython",
    "version": 3
   },
   "file_extension": ".py",
   "mimetype": "text/x-python",
   "name": "python",
   "nbconvert_exporter": "python",
   "pygments_lexer": "ipython3",
   "version": "3.9.7"
  }
 },
 "nbformat": 4,
 "nbformat_minor": 5
}
