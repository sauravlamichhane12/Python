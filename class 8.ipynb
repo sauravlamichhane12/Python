{
 "cells": [
  {
   "cell_type": "markdown",
   "id": "55fd9c09",
   "metadata": {},
   "source": [
    "# Recursion function in python"
   ]
  },
  {
   "cell_type": "code",
   "execution_count": 1,
   "id": "9c192184",
   "metadata": {},
   "outputs": [],
   "source": [
    "def fact(n):\n",
    "    if n<=0:\n",
    "        return 1\n",
    "    else:\n",
    "        return n * fact(n+1)"
   ]
  },
  {
   "cell_type": "code",
   "execution_count": 2,
   "id": "b780b620",
   "metadata": {},
   "outputs": [
    {
     "ename": "RecursionError",
     "evalue": "maximum recursion depth exceeded in comparison",
     "output_type": "error",
     "traceback": [
      "\u001b[0;31m---------------------------------------------------------------------------\u001b[0m",
      "\u001b[0;31mRecursionError\u001b[0m                            Traceback (most recent call last)",
      "\u001b[0;32m/var/folders/61/r_vs5l1j7m91kw2v12g_zjsr0000gn/T/ipykernel_2667/997207680.py\u001b[0m in \u001b[0;36m<module>\u001b[0;34m\u001b[0m\n\u001b[0;32m----> 1\u001b[0;31m \u001b[0mfact\u001b[0m\u001b[0;34m(\u001b[0m\u001b[0;36m5\u001b[0m\u001b[0;34m)\u001b[0m\u001b[0;34m\u001b[0m\u001b[0;34m\u001b[0m\u001b[0m\n\u001b[0m\u001b[1;32m      2\u001b[0m \u001b[0mprint\u001b[0m\u001b[0;34m(\u001b[0m\u001b[0mfact\u001b[0m\u001b[0;34m(\u001b[0m\u001b[0;36m5\u001b[0m\u001b[0;34m)\u001b[0m\u001b[0;34m)\u001b[0m\u001b[0;34m\u001b[0m\u001b[0;34m\u001b[0m\u001b[0m\n",
      "\u001b[0;32m/var/folders/61/r_vs5l1j7m91kw2v12g_zjsr0000gn/T/ipykernel_2667/206426020.py\u001b[0m in \u001b[0;36mfact\u001b[0;34m(n)\u001b[0m\n\u001b[1;32m      3\u001b[0m         \u001b[0;32mreturn\u001b[0m \u001b[0;36m1\u001b[0m\u001b[0;34m\u001b[0m\u001b[0;34m\u001b[0m\u001b[0m\n\u001b[1;32m      4\u001b[0m     \u001b[0;32melse\u001b[0m\u001b[0;34m:\u001b[0m\u001b[0;34m\u001b[0m\u001b[0;34m\u001b[0m\u001b[0m\n\u001b[0;32m----> 5\u001b[0;31m         \u001b[0;32mreturn\u001b[0m \u001b[0mn\u001b[0m \u001b[0;34m*\u001b[0m \u001b[0mfact\u001b[0m\u001b[0;34m(\u001b[0m\u001b[0mn\u001b[0m\u001b[0;34m+\u001b[0m\u001b[0;36m1\u001b[0m\u001b[0;34m)\u001b[0m\u001b[0;34m\u001b[0m\u001b[0;34m\u001b[0m\u001b[0m\n\u001b[0m",
      "... last 1 frames repeated, from the frame below ...\n",
      "\u001b[0;32m/var/folders/61/r_vs5l1j7m91kw2v12g_zjsr0000gn/T/ipykernel_2667/206426020.py\u001b[0m in \u001b[0;36mfact\u001b[0;34m(n)\u001b[0m\n\u001b[1;32m      3\u001b[0m         \u001b[0;32mreturn\u001b[0m \u001b[0;36m1\u001b[0m\u001b[0;34m\u001b[0m\u001b[0;34m\u001b[0m\u001b[0m\n\u001b[1;32m      4\u001b[0m     \u001b[0;32melse\u001b[0m\u001b[0;34m:\u001b[0m\u001b[0;34m\u001b[0m\u001b[0;34m\u001b[0m\u001b[0m\n\u001b[0;32m----> 5\u001b[0;31m         \u001b[0;32mreturn\u001b[0m \u001b[0mn\u001b[0m \u001b[0;34m*\u001b[0m \u001b[0mfact\u001b[0m\u001b[0;34m(\u001b[0m\u001b[0mn\u001b[0m\u001b[0;34m+\u001b[0m\u001b[0;36m1\u001b[0m\u001b[0;34m)\u001b[0m\u001b[0;34m\u001b[0m\u001b[0;34m\u001b[0m\u001b[0m\n\u001b[0m",
      "\u001b[0;31mRecursionError\u001b[0m: maximum recursion depth exceeded in comparison"
     ]
    }
   ],
   "source": [
    "fact(5)\n",
    "print(fact(5))"
   ]
  },
  {
   "cell_type": "code",
   "execution_count": null,
   "id": "0cabb1d1",
   "metadata": {},
   "outputs": [],
   "source": [
    "#find the fibonnacci sequnece for the given number\n",
    "def fibo(n):\n",
    "    sequence = []\n",
    "    if n<=1:\n",
    "        return [0,]\n",
    "    sequence = [0,1]\n",
    "    count=1\n",
    "    while count + 1 <n:\n",
    "        sequence.append(sequence[count-1]+sequence[count])\n",
    "        count +=1\n",
    "    return sequence\n",
    "fibo(10)"
   ]
  },
  {
   "cell_type": "markdown",
   "id": "a765ce03",
   "metadata": {},
   "source": [
    "# Fibonacci sequence using recursion"
   ]
  },
  {
   "cell_type": "code",
   "execution_count": null,
   "id": "2e02b48c",
   "metadata": {},
   "outputs": [],
   "source": [
    "def fibo_recursion(n):\n",
    "    if n<=1:\n",
    "        return n\n",
    "    return fibo_recursion(n-1) + fibo_recursion(n-2)"
   ]
  },
  {
   "cell_type": "code",
   "execution_count": null,
   "id": "01c5e493",
   "metadata": {},
   "outputs": [],
   "source": [
    "fibo_recursion(0)"
   ]
  },
  {
   "cell_type": "code",
   "execution_count": null,
   "id": "79161682",
   "metadata": {},
   "outputs": [],
   "source": [
    "for i in range(8):\n",
    "    print(fibo_recursion(i))"
   ]
  },
  {
   "cell_type": "code",
   "execution_count": null,
   "id": "4cf0c44b",
   "metadata": {},
   "outputs": [],
   "source": [
    "f = open('text.txt', mode ='w')"
   ]
  },
  {
   "cell_type": "code",
   "execution_count": null,
   "id": "008b9090",
   "metadata": {},
   "outputs": [],
   "source": [
    "data = [f'Line{i}' for i in range(20)]\n",
    "data"
   ]
  },
  {
   "cell_type": "code",
   "execution_count": null,
   "id": "5f0b2b51",
   "metadata": {},
   "outputs": [],
   "source": [
    "f.writelines(data)"
   ]
  },
  {
   "cell_type": "code",
   "execution_count": null,
   "id": "d559ffeb",
   "metadata": {},
   "outputs": [],
   "source": [
    "f.close()"
   ]
  },
  {
   "cell_type": "code",
   "execution_count": null,
   "id": "63a6fcf2",
   "metadata": {},
   "outputs": [],
   "source": [
    "f= open('text.txt', mode='a+')"
   ]
  },
  {
   "cell_type": "code",
   "execution_count": null,
   "id": "4d4c1b7e",
   "metadata": {},
   "outputs": [],
   "source": [
    "f.tell()"
   ]
  },
  {
   "cell_type": "code",
   "execution_count": null,
   "id": "f4b888a6",
   "metadata": {},
   "outputs": [],
   "source": [
    "f.readlines()"
   ]
  },
  {
   "cell_type": "code",
   "execution_count": null,
   "id": "2201f057",
   "metadata": {},
   "outputs": [],
   "source": [
    "f.seek(0)\n",
    "f.readlines()"
   ]
  },
  {
   "cell_type": "code",
   "execution_count": null,
   "id": "9ca0c9ee",
   "metadata": {},
   "outputs": [],
   "source": [
    "f.write('line20')"
   ]
  },
  {
   "cell_type": "code",
   "execution_count": null,
   "id": "d4d47a84",
   "metadata": {},
   "outputs": [],
   "source": [
    "f.close()"
   ]
  },
  {
   "cell_type": "code",
   "execution_count": null,
   "id": "16b0634e",
   "metadata": {},
   "outputs": [],
   "source": [
    "num = int(input('Enter the number:'))\n",
    "factorial=1\n",
    "for i in range(1, (num+1)):\n",
    "    factorial = factorial*i\n",
    "print(f'the facotorial of {num} is {factorial}')"
   ]
  },
  {
   "cell_type": "code",
   "execution_count": null,
   "id": "cf7a3f8c",
   "metadata": {},
   "outputs": [],
   "source": [
    "\n",
    "def fact(n):\n",
    "    if (n==1 or n==0):\n",
    "        return 1\n",
    "    else:\n",
    "        f = n*fact(n-1)\n",
    "        return f\n"
   ]
  },
  {
   "cell_type": "code",
   "execution_count": null,
   "id": "2d868f83",
   "metadata": {},
   "outputs": [],
   "source": [
    "y= fact(0)"
   ]
  },
  {
   "cell_type": "code",
   "execution_count": null,
   "id": "fccc6043",
   "metadata": {},
   "outputs": [],
   "source": [
    "print(f'the factorial of 0 is {fact(0)}')"
   ]
  },
  {
   "cell_type": "code",
   "execution_count": null,
   "id": "b22d9b45",
   "metadata": {},
   "outputs": [],
   "source": [
    "\n",
    "def factorial(a):\n",
    "    if (a==0 or a==1):\n",
    "        return 1\n",
    "    else:\n",
    "        fact = a*factorial(a-1)\n",
    "        return fact"
   ]
  },
  {
   "cell_type": "code",
   "execution_count": null,
   "id": "8a1e5046",
   "metadata": {},
   "outputs": [],
   "source": [
    "num =int(input('ENter your number:'))\n",
    "y=factorial(num)\n",
    "print(f'the factorial of {num} is {y}')"
   ]
  },
  {
   "cell_type": "code",
   "execution_count": null,
   "id": "42e01381",
   "metadata": {},
   "outputs": [],
   "source": []
  },
  {
   "cell_type": "code",
   "execution_count": null,
   "id": "b7086460",
   "metadata": {},
   "outputs": [],
   "source": [
    "def fun(x):\n",
    "    if (x==0 or x==1):\n",
    "        return 1\n",
    "    else:\n",
    "        return x*fun(x-1)"
   ]
  },
  {
   "cell_type": "code",
   "execution_count": null,
   "id": "5593c212",
   "metadata": {},
   "outputs": [],
   "source": [
    "y= fun(5)"
   ]
  },
  {
   "cell_type": "code",
   "execution_count": null,
   "id": "deb9d12a",
   "metadata": {},
   "outputs": [],
   "source": [
    "print('the factorial of fie is', y)"
   ]
  },
  {
   "cell_type": "code",
   "execution_count": 84,
   "id": "2d4caa0e",
   "metadata": {},
   "outputs": [
    {
     "ename": "SyntaxError",
     "evalue": "'return' outside function (3690386341.py, line 3)",
     "output_type": "error",
     "traceback": [
      "\u001b[0;36m  File \u001b[0;32m\"/var/folders/61/r_vs5l1j7m91kw2v12g_zjsr0000gn/T/ipykernel_3294/3690386341.py\"\u001b[0;36m, line \u001b[0;32m3\u001b[0m\n\u001b[0;31m    return n\u001b[0m\n\u001b[0m    ^\u001b[0m\n\u001b[0;31mSyntaxError\u001b[0m\u001b[0;31m:\u001b[0m 'return' outside function\n"
     ]
    }
   ],
   "source": [
    "for n in range(8):\n",
    "    if (n==0 or n==1):\n",
    "        return n\n",
    "    else:\n",
    "        return (fibo(n-1) + fibo(n-2))\n",
    "        "
   ]
  },
  {
   "cell_type": "code",
   "execution_count": 85,
   "id": "0a1b9155",
   "metadata": {},
   "outputs": [
    {
     "name": "stdout",
     "output_type": "stream",
     "text": [
      "-55\n"
     ]
    }
   ],
   "source": [
    "c = fibo(10)\n",
    "print(c)"
   ]
  },
  {
   "cell_type": "code",
   "execution_count": 86,
   "id": "991309d2",
   "metadata": {},
   "outputs": [],
   "source": [
    "def fibo(i):\n",
    "    if(i<=1):\n",
    "        return n\n",
    "    else:\n",
    "        y = fibo(i-1) + fibo(i-2)\n",
    "        return y"
   ]
  },
  {
   "cell_type": "code",
   "execution_count": null,
   "id": "c9cb9cc2",
   "metadata": {},
   "outputs": [],
   "source": [
    "\n",
    "for i in range(n):\n",
    "    print(fibo(i))"
   ]
  },
  {
   "cell_type": "code",
   "execution_count": 102,
   "id": "e946dda7",
   "metadata": {},
   "outputs": [
    {
     "name": "stdout",
     "output_type": "stream",
     "text": [
      "Enter the number:9\n",
      "the factorail of 9 is 362880\n"
     ]
    }
   ],
   "source": [
    "x = int(input('Enter the number:'))\n",
    "factorial=1\n",
    "if (x<0):\n",
    "    print('Enter the positive number')\n",
    "elif (x==0 or x==1):\n",
    "    print(1)\n",
    "else:\n",
    "    for i in range(1, x+1):\n",
    "        factorial= factorial * i\n",
    "    print(f'the factorail of {x} is {factorial}')\n",
    "    "
   ]
  },
  {
   "cell_type": "code",
   "execution_count": 100,
   "id": "55fbdfc9",
   "metadata": {},
   "outputs": [],
   "source": [
    "def fact(x):\n",
    "    factorial =1\n",
    "    if (x==0 or x==1):\n",
    "        return 1\n",
    "    else:\n",
    "        return x*fact(x-1)\n"
   ]
  },
  {
   "cell_type": "code",
   "execution_count": 101,
   "id": "fdfbbccd",
   "metadata": {},
   "outputs": [
    {
     "name": "stdout",
     "output_type": "stream",
     "text": [
      "Enter the number:1\n",
      "the factorial of 1 is 1\n"
     ]
    }
   ],
   "source": [
    "num = int(input('Enter the number:'))\n",
    "y =fact(num)\n",
    "print(f'the factorial of {num} is {y}')"
   ]
  },
  {
   "cell_type": "code",
   "execution_count": 99,
   "id": "72d2a20f",
   "metadata": {},
   "outputs": [],
   "source": [
    "def fibbo(x):\n",
    "    if (x==0):\n",
    "        return 0\n",
    "    elif(x==1):\n",
    "        return 1\n",
    "    else:\n",
    "        y=fibbo(x-1)+fibbo(x-2)\n",
    "        return y"
   ]
  },
  {
   "cell_type": "code",
   "execution_count": 19,
   "id": "5256d53b",
   "metadata": {},
   "outputs": [
    {
     "name": "stdout",
     "output_type": "stream",
     "text": [
      "0\n",
      "1\n",
      "1\n",
      "2\n",
      "3\n",
      "5\n",
      "8\n",
      "13\n",
      "21\n",
      "34\n"
     ]
    }
   ],
   "source": [
    "for i in range(10):\n",
    "    print(fibbo(i))"
   ]
  },
  {
   "cell_type": "code",
   "execution_count": 1,
   "id": "b7ed873a",
   "metadata": {},
   "outputs": [],
   "source": [
    "a= 145\n",
    "a=str(a)"
   ]
  },
  {
   "cell_type": "code",
   "execution_count": 2,
   "id": "89150c64",
   "metadata": {},
   "outputs": [
    {
     "data": {
      "text/plain": [
       "str"
      ]
     },
     "execution_count": 2,
     "metadata": {},
     "output_type": "execute_result"
    }
   ],
   "source": [
    "type(a)"
   ]
  },
  {
   "cell_type": "code",
   "execution_count": 3,
   "id": "57497878",
   "metadata": {},
   "outputs": [
    {
     "data": {
      "text/plain": [
       "'1'"
      ]
     },
     "execution_count": 3,
     "metadata": {},
     "output_type": "execute_result"
    }
   ],
   "source": [
    "a[0]"
   ]
  },
  {
   "cell_type": "code",
   "execution_count": 6,
   "id": "b13f84d9",
   "metadata": {},
   "outputs": [],
   "source": [
    "y= a[::-1]"
   ]
  },
  {
   "cell_type": "code",
   "execution_count": 7,
   "id": "28493e12",
   "metadata": {},
   "outputs": [],
   "source": [
    "y=int(y)"
   ]
  },
  {
   "cell_type": "code",
   "execution_count": 8,
   "id": "1533be9d",
   "metadata": {},
   "outputs": [
    {
     "name": "stdout",
     "output_type": "stream",
     "text": [
      "541\n"
     ]
    }
   ],
   "source": [
    "print(y)"
   ]
  },
  {
   "cell_type": "code",
   "execution_count": 14,
   "id": "8aaa278b",
   "metadata": {},
   "outputs": [],
   "source": [
    "def reverse(x):\n",
    "    x= str(x)\n",
    "    x=x[::-1]\n",
    "    x= int(x)\n",
    "    return x\n"
   ]
  },
  {
   "cell_type": "code",
   "execution_count": 17,
   "id": "a92f570e",
   "metadata": {},
   "outputs": [
    {
     "name": "stdout",
     "output_type": "stream",
     "text": [
      "Enter the numberw124\n",
      "the reverse of 124 is 421\n"
     ]
    }
   ],
   "source": [
    "num = int(input('Enter the numberw'))\n",
    "y = reverse(num)\n",
    "print(f'the reverse of {num} is {y}')"
   ]
  },
  {
   "cell_type": "code",
   "execution_count": 81,
   "id": "c73f3ac2",
   "metadata": {},
   "outputs": [],
   "source": [
    "def fibo(z):\n",
    "    if (z<=0):\n",
    "        return z\n",
    "    else:\n",
    "        return (fibo(z-1)+fibo(z-2))\n",
    "        "
   ]
  },
  {
   "cell_type": "code",
   "execution_count": 82,
   "id": "32114213",
   "metadata": {},
   "outputs": [
    {
     "data": {
      "text/plain": [
       "-233"
      ]
     },
     "execution_count": 82,
     "metadata": {},
     "output_type": "execute_result"
    }
   ],
   "source": [
    " fibo(13)"
   ]
  },
  {
   "cell_type": "code",
   "execution_count": 83,
   "id": "df7c4331",
   "metadata": {},
   "outputs": [
    {
     "name": "stdout",
     "output_type": "stream",
     "text": [
      "0\n",
      "-1\n",
      "-1\n",
      "-2\n",
      "-3\n",
      "-5\n",
      "-8\n",
      "-13\n"
     ]
    }
   ],
   "source": [
    "for i in range(8):\n",
    "    print(fibo(i))"
   ]
  },
  {
   "cell_type": "code",
   "execution_count": null,
   "id": "e88015ce",
   "metadata": {},
   "outputs": [],
   "source": []
  }
 ],
 "metadata": {
  "kernelspec": {
   "display_name": "Python 3 (ipykernel)",
   "language": "python",
   "name": "python3"
  },
  "language_info": {
   "codemirror_mode": {
    "name": "ipython",
    "version": 3
   },
   "file_extension": ".py",
   "mimetype": "text/x-python",
   "name": "python",
   "nbconvert_exporter": "python",
   "pygments_lexer": "ipython3",
   "version": "3.9.7"
  }
 },
 "nbformat": 4,
 "nbformat_minor": 5
}
