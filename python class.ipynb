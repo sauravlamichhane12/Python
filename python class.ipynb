{
 "cells": [
  {
   "cell_type": "markdown",
   "id": "8c3cc31a",
   "metadata": {},
   "source": [
    "# Code with Harry "
   ]
  },
  {
   "cell_type": "code",
   "execution_count": 73,
   "id": "37df74cb",
   "metadata": {},
   "outputs": [],
   "source": [
    "#Class 5\n",
    "#Escape Sequence and print statement"
   ]
  },
  {
   "cell_type": "code",
   "execution_count": 90,
   "id": "49b85792",
   "metadata": {},
   "outputs": [
    {
     "name": "stdout",
     "output_type": "stream",
     "text": [
      "This is the single \n",
      "and the viewer person\n"
     ]
    }
   ],
   "source": [
    "#\\n break the line to the nect one\n",
    "print('This is the single \\nand the viewer person')"
   ]
  },
  {
   "cell_type": "code",
   "execution_count": 91,
   "id": "5594a2f0",
   "metadata": {},
   "outputs": [
    {
     "name": "stdout",
     "output_type": "stream",
     "text": [
      "hello wolrd 6\n"
     ]
    }
   ],
   "source": [
    "print('hello wolrd', 6)"
   ]
  },
  {
   "cell_type": "code",
   "execution_count": 92,
   "id": "ca35b4e2",
   "metadata": {},
   "outputs": [
    {
     "name": "stdout",
     "output_type": "stream",
     "text": [
      "hello worldthis is\n"
     ]
    }
   ],
   "source": [
    "print('hello world' 'this ' 'is')"
   ]
  },
  {
   "cell_type": "code",
   "execution_count": 125,
   "id": "8cff218b",
   "metadata": {},
   "outputs": [
    {
     "name": "stdout",
     "output_type": "stream",
     "text": [
      "hello world:5 this is serious:6\n",
      "hello world: 5 this is serious: 6\n"
     ]
    }
   ],
   "source": [
    "a=5\n",
    "b=6\n",
    "print(f'hello world:{a} this is serious:{b}')\n",
    "print('hello world:', a, 'this is serious:',b)"
   ]
  },
  {
   "cell_type": "code",
   "execution_count": 120,
   "id": "c1ed3b6a",
   "metadata": {},
   "outputs": [
    {
     "name": "stdout",
     "output_type": "stream",
     "text": [
      "hello world 5 THis number is 5\n"
     ]
    }
   ],
   "source": [
    "print('hello world', a, 'THis number is', a)"
   ]
  },
  {
   "cell_type": "code",
   "execution_count": 128,
   "id": "a05b6d0f",
   "metadata": {},
   "outputs": [
    {
     "name": "stdout",
     "output_type": "stream",
     "text": [
      "my name is saurav and i am 17 years old\n"
     ]
    }
   ],
   "source": [
    "a= 'saurav'\n",
    "b= 17\n",
    "print('my name is', a, 'and i am', b, 'years old')\n"
   ]
  },
  {
   "cell_type": "code",
   "execution_count": 127,
   "id": "84f214a9",
   "metadata": {},
   "outputs": [
    {
     "name": "stdout",
     "output_type": "stream",
     "text": [
      "my name is saurav and i am 17 years old\n"
     ]
    }
   ],
   "source": [
    "print(f'my name is {a} and i am {b} years old')"
   ]
  },
  {
   "cell_type": "code",
   "execution_count": 129,
   "id": "0e117b73",
   "metadata": {},
   "outputs": [],
   "source": [
    "#Class 6  \n",
    "Variable is like a container that holds data."
   ]
  },
  {
   "cell_type": "code",
   "execution_count": 130,
   "id": "4daf324b",
   "metadata": {},
   "outputs": [
    {
     "name": "stdout",
     "output_type": "stream",
     "text": [
      "124\n"
     ]
    }
   ],
   "source": [
    "#variables \n",
    "a = 124;\n",
    "print(a)"
   ]
  },
  {
   "cell_type": "code",
   "execution_count": 131,
   "id": "c1ba7725",
   "metadata": {},
   "outputs": [
    {
     "data": {
      "text/plain": [
       "int"
      ]
     },
     "execution_count": 131,
     "metadata": {},
     "output_type": "execute_result"
    }
   ],
   "source": [
    "type(a)"
   ]
  },
  {
   "cell_type": "code",
   "execution_count": 132,
   "id": "30809c99",
   "metadata": {},
   "outputs": [
    {
     "name": "stdout",
     "output_type": "stream",
     "text": [
      "10\n"
     ]
    }
   ],
   "source": [
    "a = 5\n",
    "b =5\n",
    "print(a+b)"
   ]
  },
  {
   "cell_type": "code",
   "execution_count": 133,
   "id": "cd5b3a59",
   "metadata": {},
   "outputs": [
    {
     "name": "stdout",
     "output_type": "stream",
     "text": [
      "1.0\n"
     ]
    }
   ],
   "source": [
    "print(a/b)"
   ]
  },
  {
   "cell_type": "code",
   "execution_count": 134,
   "id": "1dd0c9d9",
   "metadata": {},
   "outputs": [
    {
     "name": "stdout",
     "output_type": "stream",
     "text": [
      "0\n"
     ]
    }
   ],
   "source": [
    "print(a-b)"
   ]
  },
  {
   "cell_type": "code",
   "execution_count": 135,
   "id": "0b5543e7",
   "metadata": {},
   "outputs": [
    {
     "name": "stdout",
     "output_type": "stream",
     "text": [
      "25\n"
     ]
    }
   ],
   "source": [
    "print(a*a)"
   ]
  },
  {
   "cell_type": "code",
   "execution_count": 151,
   "id": "6706b8de",
   "metadata": {},
   "outputs": [
    {
     "name": "stdout",
     "output_type": "stream",
     "text": [
      "Enter your number3\n",
      "Enter your second number: 5\n",
      "8\n"
     ]
    }
   ],
   "source": [
    "numb = input('Enter your number')\n",
    "\n",
    "numb2 = input('Enter your second number: ')\n",
    "numb = int(numb)\n",
    "numb2 = int(numb2)\n",
    "print(numb + numb2)"
   ]
  },
  {
   "cell_type": "code",
   "execution_count": 141,
   "id": "1f958e3d",
   "metadata": {},
   "outputs": [
    {
     "name": "stdout",
     "output_type": "stream",
     "text": [
      "8\n",
      "2\n"
     ]
    }
   ],
   "source": [
    "numb =3\n",
    "numb1 =5\n",
    "sum = numb1  + numb\n",
    "sub = numb1 - numb\n",
    "print(sum)\n",
    "print(sub)"
   ]
  },
  {
   "cell_type": "code",
   "execution_count": 146,
   "id": "d38408da",
   "metadata": {},
   "outputs": [],
   "source": [
    " a = [1, 2,3 ]"
   ]
  },
  {
   "cell_type": "code",
   "execution_count": 147,
   "id": "84bc645c",
   "metadata": {},
   "outputs": [
    {
     "data": {
      "text/plain": [
       "[1, 2, 3]"
      ]
     },
     "execution_count": 147,
     "metadata": {},
     "output_type": "execute_result"
    }
   ],
   "source": [
    "a"
   ]
  },
  {
   "cell_type": "code",
   "execution_count": 148,
   "id": "5d353fc5",
   "metadata": {},
   "outputs": [
    {
     "name": "stdout",
     "output_type": "stream",
     "text": [
      "[1, 2, 3]\n"
     ]
    }
   ],
   "source": [
    "print(a)"
   ]
  },
  {
   "cell_type": "code",
   "execution_count": 150,
   "id": "96a01079",
   "metadata": {},
   "outputs": [],
   "source": [
    "# Day 7"
   ]
  },
  {
   "cell_type": "code",
   "execution_count": 159,
   "id": "c31d2e78",
   "metadata": {},
   "outputs": [
    {
     "name": "stdout",
     "output_type": "stream",
     "text": [
      "Enter first number:8\n",
      "Enter second number:4\n",
      "The sum of 8 and 4: 12\n",
      "The sub of 8 and 4: 4\n",
      "The mul of 8 and 4: 32\n",
      "The div of 8 and 4: 2.0\n"
     ]
    }
   ],
   "source": [
    "num1 = input('Enter first number:')\n",
    "numb2 = input('Enter second number:')\n",
    "a = int(num1)\n",
    "b = int(numb2)\n",
    "add = a + b\n",
    "sub = a - b\n",
    "mul = a * b\n",
    "div = a/b\n",
    "\n",
    "print(f'The sum of {a} and {b}:', add)\n",
    "print(f'The sub of {a} and {b}:',sub)\n",
    "print(f'The mul of {a} and {b}:', mul)\n",
    "print(f'The div of {a} and {b}:',div)"
   ]
  },
  {
   "cell_type": "code",
   "execution_count": 160,
   "id": "8c0ea2f2",
   "metadata": {},
   "outputs": [
    {
     "name": "stdout",
     "output_type": "stream",
     "text": [
      "12\n"
     ]
    }
   ],
   "source": [
    "a = '1'\n",
    "b = '2'\n",
    "print(int(a+b))"
   ]
  },
  {
   "cell_type": "code",
   "execution_count": 161,
   "id": "f52f542c",
   "metadata": {},
   "outputs": [
    {
     "name": "stdout",
     "output_type": "stream",
     "text": [
      "3\n"
     ]
    }
   ],
   "source": [
    "print(int(a) + int(b))"
   ]
  },
  {
   "cell_type": "code",
   "execution_count": 163,
   "id": "bfda2f08",
   "metadata": {},
   "outputs": [
    {
     "name": "stdout",
     "output_type": "stream",
     "text": [
      "8\n",
      "my nae is harry 8\n"
     ]
    }
   ],
   "source": [
    "a = input()\n",
    "print('my nae is harry', a)"
   ]
  },
  {
   "cell_type": "code",
   "execution_count": 1,
   "id": "5eb8b97f",
   "metadata": {},
   "outputs": [],
   "source": [
    "#string\n"
   ]
  },
  {
   "cell_type": "code",
   "execution_count": 2,
   "id": "98d1da46",
   "metadata": {},
   "outputs": [],
   "source": [
    "name='harry'"
   ]
  },
  {
   "cell_type": "code",
   "execution_count": 3,
   "id": "b528d3ea",
   "metadata": {},
   "outputs": [
    {
     "name": "stdout",
     "output_type": "stream",
     "text": [
      "h\n"
     ]
    }
   ],
   "source": [
    "print(name[0])"
   ]
  },
  {
   "cell_type": "code",
   "execution_count": 15,
   "id": "26bb455c",
   "metadata": {},
   "outputs": [
    {
     "name": "stdout",
     "output_type": "stream",
     "text": [
      "har\n"
     ]
    }
   ],
   "source": [
    "print(name[0:3])"
   ]
  },
  {
   "cell_type": "code",
   "execution_count": 8,
   "id": "f8279bf7",
   "metadata": {},
   "outputs": [
    {
     "data": {
      "text/plain": [
       "5"
      ]
     },
     "execution_count": 8,
     "metadata": {},
     "output_type": "execute_result"
    }
   ],
   "source": [
    "len(name)"
   ]
  },
  {
   "cell_type": "code",
   "execution_count": 9,
   "id": "e996e5ec",
   "metadata": {},
   "outputs": [],
   "source": [
    "fruit= 'mango'"
   ]
  },
  {
   "cell_type": "code",
   "execution_count": 10,
   "id": "0fad71b7",
   "metadata": {},
   "outputs": [],
   "source": [
    "length = len(fruit)"
   ]
  },
  {
   "cell_type": "code",
   "execution_count": 11,
   "id": "1d209904",
   "metadata": {},
   "outputs": [
    {
     "name": "stdout",
     "output_type": "stream",
     "text": [
      "I have 5 mango \n"
     ]
    }
   ],
   "source": [
    "print(f'I have {length} mango ')"
   ]
  },
  {
   "cell_type": "code",
   "execution_count": 16,
   "id": "840601b5",
   "metadata": {},
   "outputs": [
    {
     "name": "stdout",
     "output_type": "stream",
     "text": [
      "man\n"
     ]
    }
   ],
   "source": [
    "print(fruit[0:3])"
   ]
  },
  {
   "cell_type": "code",
   "execution_count": 17,
   "id": "8d34a6b4",
   "metadata": {},
   "outputs": [
    {
     "name": "stdout",
     "output_type": "stream",
     "text": [
      "mango\n"
     ]
    }
   ],
   "source": [
    "print(fruit[0:5])"
   ]
  },
  {
   "cell_type": "code",
   "execution_count": 21,
   "id": "9163c14b",
   "metadata": {},
   "outputs": [
    {
     "name": "stdout",
     "output_type": "stream",
     "text": [
      "ma\n"
     ]
    }
   ],
   "source": [
    "print(fruit[0:-3])"
   ]
  },
  {
   "cell_type": "code",
   "execution_count": 22,
   "id": "83aab271",
   "metadata": {},
   "outputs": [
    {
     "name": "stdout",
     "output_type": "stream",
     "text": [
      "o\n"
     ]
    }
   ],
   "source": [
    "print(fruit[-1])"
   ]
  },
  {
   "cell_type": "code",
   "execution_count": 35,
   "id": "8622a977",
   "metadata": {},
   "outputs": [
    {
     "data": {
      "text/plain": [
       "7"
      ]
     },
     "execution_count": 35,
     "metadata": {},
     "output_type": "execute_result"
    }
   ],
   "source": [
    "name = 'sauravl'\n",
    "len(name)"
   ]
  },
  {
   "cell_type": "code",
   "execution_count": 37,
   "id": "85c179ac",
   "metadata": {},
   "outputs": [
    {
     "name": "stdout",
     "output_type": "stream",
     "text": [
      "urav\n"
     ]
    }
   ],
   "source": [
    "print(name[2:-1])"
   ]
  },
  {
   "cell_type": "code",
   "execution_count": 38,
   "id": "3ddf08ae",
   "metadata": {},
   "outputs": [],
   "source": [
    "nm = 'Harry'"
   ]
  },
  {
   "cell_type": "code",
   "execution_count": 39,
   "id": "1ab5d59b",
   "metadata": {},
   "outputs": [
    {
     "name": "stdout",
     "output_type": "stream",
     "text": [
      "ar\n"
     ]
    }
   ],
   "source": [
    "print(nm[-4:-2])"
   ]
  },
  {
   "cell_type": "code",
   "execution_count": 40,
   "id": "9ac9a6f5",
   "metadata": {},
   "outputs": [
    {
     "name": "stdout",
     "output_type": "stream",
     "text": [
      "5\n"
     ]
    }
   ],
   "source": [
    "print(len(nm))"
   ]
  },
  {
   "cell_type": "code",
   "execution_count": 41,
   "id": "ce1297bc",
   "metadata": {},
   "outputs": [
    {
     "ename": "SyntaxError",
     "evalue": "invalid syntax (1982128810.py, line 1)",
     "output_type": "error",
     "traceback": [
      "\u001b[0;36m  File \u001b[0;32m\"/var/folders/61/r_vs5l1j7m91kw2v12g_zjsr0000gn/T/ipykernel_10191/1982128810.py\"\u001b[0;36m, line \u001b[0;32m1\u001b[0m\n\u001b[0;31m    nm[]\u001b[0m\n\u001b[0m       ^\u001b[0m\n\u001b[0;31mSyntaxError\u001b[0m\u001b[0;31m:\u001b[0m invalid syntax\n"
     ]
    }
   ],
   "source": [
    "nm[]"
   ]
  },
  {
   "cell_type": "code",
   "execution_count": 43,
   "id": "a2d549ef",
   "metadata": {},
   "outputs": [
    {
     "name": "stdout",
     "output_type": "stream",
     "text": [
      "H\n"
     ]
    }
   ],
   "source": [
    "print(nm[0])"
   ]
  },
  {
   "cell_type": "code",
   "execution_count": 46,
   "id": "4f2bfc6d",
   "metadata": {},
   "outputs": [
    {
     "data": {
      "text/plain": [
       "'HARRY'"
      ]
     },
     "execution_count": 46,
     "metadata": {},
     "output_type": "execute_result"
    }
   ],
   "source": [
    "nm.upper()"
   ]
  },
  {
   "cell_type": "code",
   "execution_count": 45,
   "id": "4c401902",
   "metadata": {},
   "outputs": [
    {
     "ename": "NameError",
     "evalue": "name 'upper' is not defined",
     "output_type": "error",
     "traceback": [
      "\u001b[0;31m---------------------------------------------------------------------------\u001b[0m",
      "\u001b[0;31mNameError\u001b[0m                                 Traceback (most recent call last)",
      "\u001b[0;32m/var/folders/61/r_vs5l1j7m91kw2v12g_zjsr0000gn/T/ipykernel_10191/1979737978.py\u001b[0m in \u001b[0;36m<module>\u001b[0;34m\u001b[0m\n\u001b[0;32m----> 1\u001b[0;31m \u001b[0mupper\u001b[0m\u001b[0;34m(\u001b[0m\u001b[0mnm\u001b[0m\u001b[0;34m)\u001b[0m\u001b[0;34m\u001b[0m\u001b[0;34m\u001b[0m\u001b[0m\n\u001b[0m",
      "\u001b[0;31mNameError\u001b[0m: name 'upper' is not defined"
     ]
    }
   ],
   "source": [
    "upper(nm)"
   ]
  },
  {
   "cell_type": "code",
   "execution_count": 47,
   "id": "0fea8e97",
   "metadata": {},
   "outputs": [
    {
     "data": {
      "text/plain": [
       "'harry'"
      ]
     },
     "execution_count": 47,
     "metadata": {},
     "output_type": "execute_result"
    }
   ],
   "source": [
    "nm.lower()"
   ]
  },
  {
   "cell_type": "code",
   "execution_count": 48,
   "id": "0696c2a3",
   "metadata": {},
   "outputs": [],
   "source": [
    "a = ('hello!!!!!!!!')"
   ]
  },
  {
   "cell_type": "code",
   "execution_count": 49,
   "id": "1711e9db",
   "metadata": {},
   "outputs": [
    {
     "data": {
      "text/plain": [
       "'hello!!!!!!!!'"
      ]
     },
     "execution_count": 49,
     "metadata": {},
     "output_type": "execute_result"
    }
   ],
   "source": [
    "a.strip()"
   ]
  },
  {
   "cell_type": "code",
   "execution_count": 50,
   "id": "4b540c12",
   "metadata": {},
   "outputs": [
    {
     "data": {
      "text/plain": [
       "'hello!!!!!!!!'"
      ]
     },
     "execution_count": 50,
     "metadata": {},
     "output_type": "execute_result"
    }
   ],
   "source": [
    "a.strip()"
   ]
  },
  {
   "cell_type": "code",
   "execution_count": 75,
   "id": "dbcd7317",
   "metadata": {},
   "outputs": [],
   "source": [
    "a= '!!!elloheeeee!!!!'"
   ]
  },
  {
   "cell_type": "code",
   "execution_count": 77,
   "id": "1cafda1d",
   "metadata": {},
   "outputs": [
    {
     "data": {
      "text/plain": [
       "'!!!elloheeeee'"
      ]
     },
     "execution_count": 77,
     "metadata": {},
     "output_type": "execute_result"
    }
   ],
   "source": [
    "a.rstrip('!')"
   ]
  },
  {
   "cell_type": "code",
   "execution_count": 93,
   "id": "62a45816",
   "metadata": {},
   "outputs": [],
   "source": [
    "a = 'harry-sarry-mary'"
   ]
  },
  {
   "cell_type": "code",
   "execution_count": 94,
   "id": "7a0036bd",
   "metadata": {},
   "outputs": [
    {
     "data": {
      "text/plain": [
       "'jore-sarry-mary'"
      ]
     },
     "execution_count": 94,
     "metadata": {},
     "output_type": "execute_result"
    }
   ],
   "source": [
    "a.replace('harry', 'jore')"
   ]
  },
  {
   "cell_type": "code",
   "execution_count": 96,
   "id": "42bc7dc2",
   "metadata": {},
   "outputs": [
    {
     "data": {
      "text/plain": [
       "['harry', 'sarry', 'mary']"
      ]
     },
     "execution_count": 96,
     "metadata": {},
     "output_type": "execute_result"
    }
   ],
   "source": [
    "a.split('-')"
   ]
  },
  {
   "cell_type": "code",
   "execution_count": 97,
   "id": "5b7636c8",
   "metadata": {},
   "outputs": [],
   "source": [
    "a= 'harry'"
   ]
  },
  {
   "cell_type": "code",
   "execution_count": 98,
   "id": "7c8f4ba9",
   "metadata": {},
   "outputs": [
    {
     "data": {
      "text/plain": [
       "'Harry'"
      ]
     },
     "execution_count": 98,
     "metadata": {},
     "output_type": "execute_result"
    }
   ],
   "source": [
    "a.capitalize()"
   ]
  },
  {
   "cell_type": "code",
   "execution_count": 100,
   "id": "ceaa19ee",
   "metadata": {},
   "outputs": [
    {
     "ename": "AttributeError",
     "evalue": "'str' object has no attribute 'centre'",
     "output_type": "error",
     "traceback": [
      "\u001b[0;31m---------------------------------------------------------------------------\u001b[0m",
      "\u001b[0;31mAttributeError\u001b[0m                            Traceback (most recent call last)",
      "\u001b[0;32m/var/folders/61/r_vs5l1j7m91kw2v12g_zjsr0000gn/T/ipykernel_10191/1774640032.py\u001b[0m in \u001b[0;36m<module>\u001b[0;34m\u001b[0m\n\u001b[0;32m----> 1\u001b[0;31m \u001b[0ma\u001b[0m\u001b[0;34m.\u001b[0m\u001b[0mcentre\u001b[0m\u001b[0;34m(\u001b[0m\u001b[0;34m)\u001b[0m\u001b[0;34m\u001b[0m\u001b[0;34m\u001b[0m\u001b[0m\n\u001b[0m",
      "\u001b[0;31mAttributeError\u001b[0m: 'str' object has no attribute 'centre'"
     ]
    }
   ],
   "source": [
    "a.centre()"
   ]
  },
  {
   "cell_type": "code",
   "execution_count": 112,
   "id": "2c4c00f5",
   "metadata": {},
   "outputs": [
    {
     "data": {
      "text/plain": [
       "True"
      ]
     },
     "execution_count": 112,
     "metadata": {},
     "output_type": "execute_result"
    }
   ],
   "source": [
    "s='skdjjkaaasdoleij ddd'\n",
    "s.startswith('skdj')"
   ]
  },
  {
   "cell_type": "code",
   "execution_count": 126,
   "id": "a6765165",
   "metadata": {},
   "outputs": [],
   "source": [
    "s='eoeioiqpow'"
   ]
  },
  {
   "cell_type": "code",
   "execution_count": 127,
   "id": "c03adbfd",
   "metadata": {},
   "outputs": [
    {
     "data": {
      "text/plain": [
       "9"
      ]
     },
     "execution_count": 127,
     "metadata": {},
     "output_type": "execute_result"
    }
   ],
   "source": [
    "s.find('w')"
   ]
  },
  {
   "cell_type": "markdown",
   "id": "c66cdf18",
   "metadata": {},
   "source": [
    "# String methods"
   ]
  },
  {
   "cell_type": "code",
   "execution_count": 132,
   "id": "c70b9830",
   "metadata": {},
   "outputs": [
    {
     "data": {
      "text/plain": [
       "'happy'"
      ]
     },
     "execution_count": 132,
     "metadata": {},
     "output_type": "execute_result"
    }
   ],
   "source": [
    "##Upper\n",
    "#The upper() method converts a string to upper case.\n",
    "\n",
    "a= 'Happy'\n",
    "a.upper()\n"
   ]
  },
  {
   "cell_type": "code",
   "execution_count": 133,
   "id": "c9038728",
   "metadata": {},
   "outputs": [
    {
     "data": {
      "text/plain": [
       "'happy'"
      ]
     },
     "execution_count": 133,
     "metadata": {},
     "output_type": "execute_result"
    }
   ],
   "source": [
    "#lower\n",
    "a.lower()"
   ]
  },
  {
   "cell_type": "code",
   "execution_count": 134,
   "id": "14490a53",
   "metadata": {},
   "outputs": [
    {
     "data": {
      "text/plain": [
       "'th'"
      ]
     },
     "execution_count": 134,
     "metadata": {},
     "output_type": "execute_result"
    }
   ],
   "source": [
    "#strip\n",
    "#The strip() method removes any white spaces before and after the string\n",
    "a='the'\n",
    "a.strip('e')"
   ]
  },
  {
   "cell_type": "code",
   "execution_count": 135,
   "id": "c95d2efb",
   "metadata": {},
   "outputs": [
    {
     "data": {
      "text/plain": [
       "'he'"
      ]
     },
     "execution_count": 135,
     "metadata": {},
     "output_type": "execute_result"
    }
   ],
   "source": [
    "a.strip('t')"
   ]
  },
  {
   "cell_type": "code",
   "execution_count": 136,
   "id": "173ee527",
   "metadata": {},
   "outputs": [
    {
     "data": {
      "text/plain": [
       "'the'"
      ]
     },
     "execution_count": 136,
     "metadata": {},
     "output_type": "execute_result"
    }
   ],
   "source": [
    "a.strip('h')"
   ]
  },
  {
   "cell_type": "code",
   "execution_count": 138,
   "id": "9aa1dad3",
   "metadata": {},
   "outputs": [
    {
     "data": {
      "text/plain": [
       "'the'"
      ]
     },
     "execution_count": 138,
     "metadata": {},
     "output_type": "execute_result"
    }
   ],
   "source": [
    "a.rstrip('t')"
   ]
  },
  {
   "cell_type": "code",
   "execution_count": 139,
   "id": "6aa26bec",
   "metadata": {},
   "outputs": [
    {
     "data": {
      "text/plain": [
       "'yhe'"
      ]
     },
     "execution_count": 139,
     "metadata": {},
     "output_type": "execute_result"
    }
   ],
   "source": [
    "# replace\n",
    "#The replace() method replaces all occurences of a string with another string.\n",
    "a.replace('t', 'y')"
   ]
  },
  {
   "cell_type": "code",
   "execution_count": 174,
   "id": "95909e03",
   "metadata": {},
   "outputs": [],
   "source": [
    "a='this is the sense of life'"
   ]
  },
  {
   "cell_type": "code",
   "execution_count": 175,
   "id": "ca5f6361",
   "metadata": {},
   "outputs": [
    {
     "data": {
      "text/plain": [
       "['this', 'is', 'the', 'sense', 'of', 'life']"
      ]
     },
     "execution_count": 175,
     "metadata": {},
     "output_type": "execute_result"
    }
   ],
   "source": [
    "a.split(' ')"
   ]
  },
  {
   "cell_type": "code",
   "execution_count": 176,
   "id": "7154031e",
   "metadata": {},
   "outputs": [
    {
     "data": {
      "text/plain": [
       "'This is the sense of life'"
      ]
     },
     "execution_count": 176,
     "metadata": {},
     "output_type": "execute_result"
    }
   ],
   "source": [
    "a.capitalize()"
   ]
  },
  {
   "cell_type": "code",
   "execution_count": 185,
   "id": "2b423e27",
   "metadata": {},
   "outputs": [
    {
     "data": {
      "text/plain": [
       "3"
      ]
     },
     "execution_count": 185,
     "metadata": {},
     "output_type": "execute_result"
    }
   ],
   "source": [
    "a.count('i')"
   ]
  },
  {
   "cell_type": "code",
   "execution_count": 186,
   "id": "6021c2df",
   "metadata": {},
   "outputs": [
    {
     "data": {
      "text/plain": [
       "True"
      ]
     },
     "execution_count": 186,
     "metadata": {},
     "output_type": "execute_result"
    }
   ],
   "source": [
    "a.endswith('e')"
   ]
  },
  {
   "cell_type": "code",
   "execution_count": 187,
   "id": "70302cf7",
   "metadata": {},
   "outputs": [
    {
     "data": {
      "text/plain": [
       "False"
      ]
     },
     "execution_count": 187,
     "metadata": {},
     "output_type": "execute_result"
    }
   ],
   "source": [
    "a.endswith('t')"
   ]
  },
  {
   "cell_type": "code",
   "execution_count": 188,
   "id": "39993a57",
   "metadata": {},
   "outputs": [
    {
     "data": {
      "text/plain": [
       "True"
      ]
     },
     "execution_count": 188,
     "metadata": {},
     "output_type": "execute_result"
    }
   ],
   "source": [
    "a.startswith('t')"
   ]
  },
  {
   "cell_type": "code",
   "execution_count": 190,
   "id": "60b2e5b1",
   "metadata": {},
   "outputs": [
    {
     "data": {
      "text/plain": [
       "False"
      ]
     },
     "execution_count": 190,
     "metadata": {},
     "output_type": "execute_result"
    }
   ],
   "source": [
    "a.startswith('y')"
   ]
  },
  {
   "cell_type": "code",
   "execution_count": 203,
   "id": "21d818dd",
   "metadata": {},
   "outputs": [
    {
     "data": {
      "text/plain": [
       "0"
      ]
     },
     "execution_count": 203,
     "metadata": {},
     "output_type": "execute_result"
    }
   ],
   "source": [
    "#Find() search for the fisrt occurence of the given value and returns the index where it is present. If the given value is absent from the string then return -1.\n",
    "a.find('this')"
   ]
  },
  {
   "cell_type": "code",
   "execution_count": 202,
   "id": "8bfc801f",
   "metadata": {},
   "outputs": [
    {
     "data": {
      "text/plain": [
       "0"
      ]
     },
     "execution_count": 202,
     "metadata": {},
     "output_type": "execute_result"
    }
   ],
   "source": [
    "#index\n",
    "#The index() method searches for the first occurence of the given value and returns the index where it is present. If given value is absent from the striing then raise an exception\n",
    "a.index('this')"
   ]
  },
  {
   "cell_type": "code",
   "execution_count": 207,
   "id": "73ac2826",
   "metadata": {},
   "outputs": [
    {
     "data": {
      "text/plain": [
       "True"
      ]
     },
     "execution_count": 207,
     "metadata": {},
     "output_type": "execute_result"
    }
   ],
   "source": [
    "a='Welcometotheworld8'\n",
    "a.isalnum()"
   ]
  },
  {
   "cell_type": "code",
   "execution_count": 208,
   "id": "7be224f1",
   "metadata": {},
   "outputs": [
    {
     "data": {
      "text/plain": [
       "False"
      ]
     },
     "execution_count": 208,
     "metadata": {},
     "output_type": "execute_result"
    }
   ],
   "source": [
    "a.isalpha()"
   ]
  },
  {
   "cell_type": "code",
   "execution_count": 209,
   "id": "35b1d31e",
   "metadata": {},
   "outputs": [
    {
     "data": {
      "text/plain": [
       "True"
      ]
     },
     "execution_count": 209,
     "metadata": {},
     "output_type": "execute_result"
    }
   ],
   "source": [
    "a= 'hello world'\n",
    "a.islower()"
   ]
  },
  {
   "cell_type": "code",
   "execution_count": 210,
   "id": "e6026209",
   "metadata": {},
   "outputs": [
    {
     "data": {
      "text/plain": [
       "True"
      ]
     },
     "execution_count": 210,
     "metadata": {},
     "output_type": "execute_result"
    }
   ],
   "source": [
    "a='HELLO'\n",
    "a.isupper()"
   ]
  },
  {
   "cell_type": "code",
   "execution_count": 230,
   "id": "4f8d2484",
   "metadata": {},
   "outputs": [],
   "source": [
    "a='a s d p'"
   ]
  },
  {
   "cell_type": "code",
   "execution_count": 231,
   "id": "4731459a",
   "metadata": {},
   "outputs": [
    {
     "data": {
      "text/plain": [
       "'a s d p'"
      ]
     },
     "execution_count": 231,
     "metadata": {},
     "output_type": "execute_result"
    }
   ],
   "source": [
    "a.rstrip('a')"
   ]
  },
  {
   "cell_type": "code",
   "execution_count": 232,
   "id": "975271b3",
   "metadata": {},
   "outputs": [
    {
     "data": {
      "text/plain": [
       "'a s d y'"
      ]
     },
     "execution_count": 232,
     "metadata": {},
     "output_type": "execute_result"
    }
   ],
   "source": [
    "a.replace('p', 'y')"
   ]
  },
  {
   "cell_type": "code",
   "execution_count": 233,
   "id": "4f72a4c7",
   "metadata": {},
   "outputs": [
    {
     "data": {
      "text/plain": [
       "['a', 's', 'd', 'p']"
      ]
     },
     "execution_count": 233,
     "metadata": {},
     "output_type": "execute_result"
    }
   ],
   "source": [
    "a.split(' ')"
   ]
  },
  {
   "cell_type": "code",
   "execution_count": 235,
   "id": "fb1b761d",
   "metadata": {},
   "outputs": [
    {
     "data": {
      "text/plain": [
       "4"
      ]
     },
     "execution_count": 235,
     "metadata": {},
     "output_type": "execute_result"
    }
   ],
   "source": [
    "a.index('d')"
   ]
  },
  {
   "cell_type": "code",
   "execution_count": 243,
   "id": "9e3e2e5b",
   "metadata": {},
   "outputs": [],
   "source": [
    "a= 'Asdfg'"
   ]
  },
  {
   "cell_type": "code",
   "execution_count": 244,
   "id": "21679705",
   "metadata": {},
   "outputs": [
    {
     "data": {
      "text/plain": [
       "True"
      ]
     },
     "execution_count": 244,
     "metadata": {},
     "output_type": "execute_result"
    }
   ],
   "source": [
    "a.isalnum()"
   ]
  },
  {
   "cell_type": "code",
   "execution_count": 245,
   "id": "445f29ca",
   "metadata": {},
   "outputs": [
    {
     "data": {
      "text/plain": [
       "True"
      ]
     },
     "execution_count": 245,
     "metadata": {},
     "output_type": "execute_result"
    }
   ],
   "source": [
    "a.isalpha()"
   ]
  },
  {
   "cell_type": "code",
   "execution_count": 15,
   "id": "ce799fbd",
   "metadata": {},
   "outputs": [
    {
     "name": "stdout",
     "output_type": "stream",
     "text": [
      "10\n"
     ]
    }
   ],
   "source": [
    "for x in range(20):\n",
    "    if (x == 10):\n",
    "        print(x)\n",
    "        continue\n",
    "      \n",
    "\n"
   ]
  },
  {
   "cell_type": "code",
   "execution_count": 110,
   "id": "4deabc7a",
   "metadata": {},
   "outputs": [
    {
     "name": "stdout",
     "output_type": "stream",
     "text": [
      "0\n",
      "1\n",
      "2\n",
      "3\n",
      "4\n"
     ]
    }
   ],
   "source": [
    "for i in range(10):\n",
    "    if (i==5):\n",
    "        break\n",
    "    print(i)\n",
    "   \n",
    "        \n",
    "\n",
    "\n",
    "\n",
    "   "
   ]
  },
  {
   "cell_type": "code",
   "execution_count": 120,
   "id": "2751851d",
   "metadata": {},
   "outputs": [
    {
     "name": "stdout",
     "output_type": "stream",
     "text": [
      "0\n",
      "1\n",
      "2\n",
      "3\n",
      "4\n"
     ]
    }
   ],
   "source": [
    "#continue break the step from the loop\n",
    "for x in range(10):\n",
    "    if(x==5):\n",
    "        break\n",
    "    print(x)\n",
    "\n"
   ]
  },
  {
   "cell_type": "code",
   "execution_count": null,
   "id": "27715042",
   "metadata": {},
   "outputs": [],
   "source": [
    "i love you more you are my everthing"
   ]
  },
  {
   "cell_type": "code",
   "execution_count": 123,
   "id": "e1576e3d",
   "metadata": {},
   "outputs": [
    {
     "name": "stdout",
     "output_type": "stream",
     "text": [
      "-9.333333333333334\n"
     ]
    }
   ],
   "source": [
    "a = 4\n",
    "b =7\n",
    "mean = (a*b)/(a-b)\n",
    "print(mean)"
   ]
  },
  {
   "cell_type": "code",
   "execution_count": 125,
   "id": "fbe4933e",
   "metadata": {},
   "outputs": [
    {
     "name": "stdout",
     "output_type": "stream",
     "text": [
      "-56.0\n"
     ]
    }
   ],
   "source": [
    "c = 7\n",
    "d= 8\n",
    "mean = (c*d)/(c-d)\n",
    "print(mean)"
   ]
  },
  {
   "cell_type": "code",
   "execution_count": 159,
   "id": "4dea8b82",
   "metadata": {},
   "outputs": [],
   "source": [
    "def funmean(a,b):\n",
    "    mean = (a*b)/(a-b)\n",
    "    tean = a/b\n",
    "    return mean, tean"
   ]
  },
  {
   "cell_type": "code",
   "execution_count": 160,
   "id": "c694e70f",
   "metadata": {},
   "outputs": [
    {
     "data": {
      "text/plain": [
       "(-20.0, 0.8)"
      ]
     },
     "execution_count": 160,
     "metadata": {},
     "output_type": "execute_result"
    }
   ],
   "source": [
    "funmean(4,5)"
   ]
  },
  {
   "cell_type": "code",
   "execution_count": 138,
   "id": "f5b2357d",
   "metadata": {},
   "outputs": [],
   "source": [
    "def abc(a,b):\n",
    "    ebc= a+b\n",
    "    return ebc"
   ]
  },
  {
   "cell_type": "code",
   "execution_count": 134,
   "id": "993ea4fd",
   "metadata": {},
   "outputs": [
    {
     "name": "stdout",
     "output_type": "stream",
     "text": [
      "a is grater than b\n"
     ]
    }
   ],
   "source": [
    "abc(9,8)"
   ]
  },
  {
   "cell_type": "code",
   "execution_count": 146,
   "id": "04162412",
   "metadata": {},
   "outputs": [],
   "source": [
    " result = abc(5,7)"
   ]
  },
  {
   "cell_type": "code",
   "execution_count": 148,
   "id": "8d6d023e",
   "metadata": {},
   "outputs": [
    {
     "data": {
      "text/plain": [
       "12"
      ]
     },
     "execution_count": 148,
     "metadata": {},
     "output_type": "execute_result"
    }
   ],
   "source": [
    "result"
   ]
  },
  {
   "cell_type": "code",
   "execution_count": 161,
   "id": "2e5d8feb",
   "metadata": {},
   "outputs": [],
   "source": [
    "def abc(a,b):\n",
    "    pass"
   ]
  },
  {
   "cell_type": "code",
   "execution_count": null,
   "id": "c505d8e4",
   "metadata": {},
   "outputs": [],
   "source": []
  }
 ],
 "metadata": {
  "kernelspec": {
   "display_name": "Python 3 (ipykernel)",
   "language": "python",
   "name": "python3"
  },
  "language_info": {
   "codemirror_mode": {
    "name": "ipython",
    "version": 3
   },
   "file_extension": ".py",
   "mimetype": "text/x-python",
   "name": "python",
   "nbconvert_exporter": "python",
   "pygments_lexer": "ipython3",
   "version": "3.9.7"
  }
 },
 "nbformat": 4,
 "nbformat_minor": 5
}
