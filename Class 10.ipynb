{
 "cells": [
  {
   "cell_type": "markdown",
   "id": "68826725",
   "metadata": {},
   "source": [
    "# Random in python"
   ]
  },
  {
   "cell_type": "code",
   "execution_count": 21,
   "id": "5dadfa83",
   "metadata": {},
   "outputs": [],
   "source": [
    "import random"
   ]
  },
  {
   "cell_type": "code",
   "execution_count": 22,
   "id": "74e5b704",
   "metadata": {},
   "outputs": [
    {
     "data": {
      "text/plain": [
       "49"
      ]
     },
     "execution_count": 22,
     "metadata": {},
     "output_type": "execute_result"
    }
   ],
   "source": [
    "random.randint(1, 100)"
   ]
  },
  {
   "cell_type": "code",
   "execution_count": 23,
   "id": "9ae2ac3c",
   "metadata": {},
   "outputs": [],
   "source": [
    "random.seed(666)"
   ]
  },
  {
   "cell_type": "code",
   "execution_count": null,
   "id": "8020cbfc",
   "metadata": {},
   "outputs": [],
   "source": []
  },
  {
   "cell_type": "code",
   "execution_count": 31,
   "id": "12afb5e7",
   "metadata": {},
   "outputs": [],
   "source": [
    "random_number_list =[random.randint(1, 100) for i in range(10)]\n",
    "    "
   ]
  },
  {
   "cell_type": "code",
   "execution_count": 32,
   "id": "5d7a026f",
   "metadata": {},
   "outputs": [
    {
     "data": {
      "text/plain": [
       "[70, 54, 48, 90, 37, 67, 12, 40, 28, 80]"
      ]
     },
     "execution_count": 32,
     "metadata": {},
     "output_type": "execute_result"
    }
   ],
   "source": [
    "random_number_list"
   ]
  },
  {
   "cell_type": "markdown",
   "id": "dc0ad363",
   "metadata": {},
   "source": [
    "# Permutation and combination"
   ]
  },
  {
   "cell_type": "code",
   "execution_count": 34,
   "id": "af3c4a70",
   "metadata": {},
   "outputs": [],
   "source": [
    "from itertools import permutations, combinations"
   ]
  },
  {
   "cell_type": "code",
   "execution_count": 35,
   "id": "9ecfdcee",
   "metadata": {},
   "outputs": [],
   "source": [
    "names=['hari Bahadur', 'Ghanshyam', 'Radha', 'Ram Piyari', 'Ram', 'Sita']"
   ]
  },
  {
   "cell_type": "code",
   "execution_count": 37,
   "id": "c1b5cc2f",
   "metadata": {},
   "outputs": [],
   "source": [
    "permut_list=permutations(names, 2)"
   ]
  },
  {
   "cell_type": "code",
   "execution_count": 40,
   "id": "1583b272",
   "metadata": {},
   "outputs": [],
   "source": [
    "permut_list=list(permut_list)"
   ]
  },
  {
   "cell_type": "code",
   "execution_count": 41,
   "id": "8de79fa8",
   "metadata": {},
   "outputs": [
    {
     "data": {
      "text/plain": [
       "30"
      ]
     },
     "execution_count": 41,
     "metadata": {},
     "output_type": "execute_result"
    }
   ],
   "source": [
    "len(permut_list)"
   ]
  },
  {
   "cell_type": "code",
   "execution_count": 42,
   "id": "50b15b5a",
   "metadata": {},
   "outputs": [
    {
     "name": "stdout",
     "output_type": "stream",
     "text": [
      "[('hari Bahadur', 'Ghanshyam'), ('hari Bahadur', 'Radha'), ('hari Bahadur', 'Ram Piyari'), ('hari Bahadur', 'Ram'), ('hari Bahadur', 'Sita'), ('Ghanshyam', 'hari Bahadur'), ('Ghanshyam', 'Radha'), ('Ghanshyam', 'Ram Piyari'), ('Ghanshyam', 'Ram'), ('Ghanshyam', 'Sita'), ('Radha', 'hari Bahadur'), ('Radha', 'Ghanshyam'), ('Radha', 'Ram Piyari'), ('Radha', 'Ram'), ('Radha', 'Sita'), ('Ram Piyari', 'hari Bahadur'), ('Ram Piyari', 'Ghanshyam'), ('Ram Piyari', 'Radha'), ('Ram Piyari', 'Ram'), ('Ram Piyari', 'Sita'), ('Ram', 'hari Bahadur'), ('Ram', 'Ghanshyam'), ('Ram', 'Radha'), ('Ram', 'Ram Piyari'), ('Ram', 'Sita'), ('Sita', 'hari Bahadur'), ('Sita', 'Ghanshyam'), ('Sita', 'Radha'), ('Sita', 'Ram Piyari'), ('Sita', 'Ram')]\n"
     ]
    }
   ],
   "source": [
    "print(permut_list)"
   ]
  },
  {
   "cell_type": "code",
   "execution_count": 43,
   "id": "844fb08b",
   "metadata": {},
   "outputs": [],
   "source": [
    "comb_list = combinations(names, 2)"
   ]
  },
  {
   "cell_type": "code",
   "execution_count": 44,
   "id": "0215a6b9",
   "metadata": {},
   "outputs": [],
   "source": [
    "comb_list = list(comb_list)"
   ]
  },
  {
   "cell_type": "code",
   "execution_count": 45,
   "id": "ab187dd1",
   "metadata": {},
   "outputs": [
    {
     "data": {
      "text/plain": [
       "[('hari Bahadur', 'Ghanshyam'),\n",
       " ('hari Bahadur', 'Radha'),\n",
       " ('hari Bahadur', 'Ram Piyari'),\n",
       " ('hari Bahadur', 'Ram'),\n",
       " ('hari Bahadur', 'Sita'),\n",
       " ('Ghanshyam', 'Radha'),\n",
       " ('Ghanshyam', 'Ram Piyari'),\n",
       " ('Ghanshyam', 'Ram'),\n",
       " ('Ghanshyam', 'Sita'),\n",
       " ('Radha', 'Ram Piyari'),\n",
       " ('Radha', 'Ram'),\n",
       " ('Radha', 'Sita'),\n",
       " ('Ram Piyari', 'Ram'),\n",
       " ('Ram Piyari', 'Sita'),\n",
       " ('Ram', 'Sita')]"
      ]
     },
     "execution_count": 45,
     "metadata": {},
     "output_type": "execute_result"
    }
   ],
   "source": [
    "comb_list"
   ]
  },
  {
   "cell_type": "code",
   "execution_count": 62,
   "id": "b2865ee5",
   "metadata": {},
   "outputs": [],
   "source": [
    "class animals:\n",
    "    def __init__(self,sub_kingdom, phylum, example):\n",
    "        self.sub_kingdom=sub_kingdom\n",
    "        self.phylum = phylum\n",
    "        self.example= example\n",
    "    def __str__(self,):\n",
    "        return (f'the sub_kingdom of {self.sub_kingdom} is {self.phylum} and the example is {self.example}' )\n",
    "        \n",
    "        "
   ]
  },
  {
   "cell_type": "code",
   "execution_count": 64,
   "id": "200bf88a",
   "metadata": {},
   "outputs": [],
   "source": [
    "p = animals('Vertibrates', 'Reptiles', example=['snake', 'chicken'])"
   ]
  },
  {
   "cell_type": "code",
   "execution_count": 65,
   "id": "5e95f233",
   "metadata": {},
   "outputs": [
    {
     "name": "stdout",
     "output_type": "stream",
     "text": [
      "the sub_kingdom of Vertibrates is Reptiles and the example is ['snake', 'chicken']\n"
     ]
    }
   ],
   "source": [
    "print(p)"
   ]
  },
  {
   "cell_type": "code",
   "execution_count": 49,
   "id": "e1a35e88",
   "metadata": {},
   "outputs": [],
   "source": [
    "l='snake'\n",
    "t=list(l)"
   ]
  },
  {
   "cell_type": "code",
   "execution_count": 50,
   "id": "d973bf7e",
   "metadata": {},
   "outputs": [
    {
     "data": {
      "text/plain": [
       "['s', 'n', 'a', 'k', 'e']"
      ]
     },
     "execution_count": 50,
     "metadata": {},
     "output_type": "execute_result"
    }
   ],
   "source": [
    "t"
   ]
  },
  {
   "cell_type": "code",
   "execution_count": 67,
   "id": "bcd2b659",
   "metadata": {},
   "outputs": [
    {
     "data": {
      "text/plain": [
       "'e'"
      ]
     },
     "execution_count": 67,
     "metadata": {},
     "output_type": "execute_result"
    }
   ],
   "source": [
    "t.pop()"
   ]
  },
  {
   "cell_type": "code",
   "execution_count": 68,
   "id": "11bbd7eb",
   "metadata": {},
   "outputs": [],
   "source": [
    "t=[1, 2,3]"
   ]
  },
  {
   "cell_type": "code",
   "execution_count": 69,
   "id": "49c66d70",
   "metadata": {},
   "outputs": [
    {
     "data": {
      "text/plain": [
       "3"
      ]
     },
     "execution_count": 69,
     "metadata": {},
     "output_type": "execute_result"
    }
   ],
   "source": [
    "t.pop()"
   ]
  },
  {
   "cell_type": "code",
   "execution_count": 70,
   "id": "a5812abc",
   "metadata": {},
   "outputs": [
    {
     "data": {
      "text/plain": [
       "[1, 2]"
      ]
     },
     "execution_count": 70,
     "metadata": {},
     "output_type": "execute_result"
    }
   ],
   "source": [
    "t"
   ]
  },
  {
   "cell_type": "code",
   "execution_count": 151,
   "id": "ec070204",
   "metadata": {},
   "outputs": [],
   "source": [
    "t= [1, 2, 'sad', 5, 'abc']"
   ]
  },
  {
   "cell_type": "code",
   "execution_count": 154,
   "id": "bf0d83d9",
   "metadata": {},
   "outputs": [],
   "source": [
    "t.append('3')"
   ]
  },
  {
   "cell_type": "code",
   "execution_count": 159,
   "id": "20d7670b",
   "metadata": {},
   "outputs": [
    {
     "ename": "IndexError",
     "evalue": "pop from empty list",
     "output_type": "error",
     "traceback": [
      "\u001b[0;31m---------------------------------------------------------------------------\u001b[0m",
      "\u001b[0;31mIndexError\u001b[0m                                Traceback (most recent call last)",
      "\u001b[0;32m/var/folders/61/r_vs5l1j7m91kw2v12g_zjsr0000gn/T/ipykernel_727/3388736707.py\u001b[0m in \u001b[0;36m<module>\u001b[0;34m\u001b[0m\n\u001b[1;32m      1\u001b[0m \u001b[0mt\u001b[0m\u001b[0;34m.\u001b[0m\u001b[0mpop\u001b[0m\u001b[0;34m(\u001b[0m\u001b[0;34m)\u001b[0m\u001b[0;34m\u001b[0m\u001b[0;34m\u001b[0m\u001b[0m\n\u001b[0;32m----> 2\u001b[0;31m \u001b[0mt\u001b[0m\u001b[0;34m.\u001b[0m\u001b[0mpop\u001b[0m\u001b[0;34m(\u001b[0m\u001b[0;36m1\u001b[0m\u001b[0;34m)\u001b[0m\u001b[0;34m\u001b[0m\u001b[0;34m\u001b[0m\u001b[0m\n\u001b[0m\u001b[1;32m      3\u001b[0m \u001b[0mt\u001b[0m\u001b[0;34m\u001b[0m\u001b[0;34m\u001b[0m\u001b[0m\n",
      "\u001b[0;31mIndexError\u001b[0m: pop from empty list"
     ]
    }
   ],
   "source": []
  },
  {
   "cell_type": "code",
   "execution_count": 161,
   "id": "eee22bdd",
   "metadata": {},
   "outputs": [],
   "source": [
    "class Person:\n",
    "    def __init__(self, fname, lname):\n",
    "        self.fname=fname\n",
    "        self.lname=lname\n",
    "    def fun(self,):\n",
    "        return (f'my name is {self.fname} {self.lname}')\n"
   ]
  },
  {
   "cell_type": "code",
   "execution_count": 162,
   "id": "b246a1ed",
   "metadata": {},
   "outputs": [],
   "source": [
    "p = Person('saurav', 'lamichhane')\n"
   ]
  },
  {
   "cell_type": "code",
   "execution_count": 163,
   "id": "88f23102",
   "metadata": {},
   "outputs": [
    {
     "name": "stdout",
     "output_type": "stream",
     "text": [
      "my name is saurav lamichhane\n"
     ]
    }
   ],
   "source": [
    "print(p.fun())"
   ]
  },
  {
   "cell_type": "code",
   "execution_count": 167,
   "id": "b7bb1fe7",
   "metadata": {},
   "outputs": [],
   "source": [
    "class Student(Person):\n",
    "    def __init__(self, fname, lname, degree, graduation):\n",
    "        super().__init__(fname,lname)\n",
    "        self.degree= degree\n",
    "        self.graduation = graduation\n",
    "    "
   ]
  },
  {
   "cell_type": "code",
   "execution_count": 170,
   "id": "14770305",
   "metadata": {},
   "outputs": [],
   "source": [
    "s1=Student('Ram', 'pyari', 'bachlore', '2022')"
   ]
  },
  {
   "cell_type": "code",
   "execution_count": 173,
   "id": "911fff44",
   "metadata": {},
   "outputs": [
    {
     "data": {
      "text/plain": [
       "'my name is Ram pyari'"
      ]
     },
     "execution_count": 173,
     "metadata": {},
     "output_type": "execute_result"
    }
   ],
   "source": [
    "s1.fun()"
   ]
  },
  {
   "cell_type": "markdown",
   "id": "7cf7df73",
   "metadata": {},
   "source": [
    "# Function Overloading"
   ]
  },
  {
   "cell_type": "code",
   "execution_count": 190,
   "id": "a3c91713",
   "metadata": {},
   "outputs": [],
   "source": [
    "class Person:\n",
    "    def area(self, x):\n",
    "        self.x = x\n",
    "        return 22/7*self.x *self.x\n",
    "    def area(x, y):\n",
    "        return x *y"
   ]
  },
  {
   "cell_type": "code",
   "execution_count": null,
   "id": "e08c51d4",
   "metadata": {},
   "outputs": [],
   "source": []
  },
  {
   "cell_type": "code",
   "execution_count": 191,
   "id": "fa0919b4",
   "metadata": {},
   "outputs": [
    {
     "ename": "TypeError",
     "evalue": "Person() takes no arguments",
     "output_type": "error",
     "traceback": [
      "\u001b[0;31m---------------------------------------------------------------------------\u001b[0m",
      "\u001b[0;31mTypeError\u001b[0m                                 Traceback (most recent call last)",
      "\u001b[0;32m/var/folders/61/r_vs5l1j7m91kw2v12g_zjsr0000gn/T/ipykernel_727/3075059249.py\u001b[0m in \u001b[0;36m<module>\u001b[0;34m\u001b[0m\n\u001b[0;32m----> 1\u001b[0;31m \u001b[0mp\u001b[0m\u001b[0;34m=\u001b[0m\u001b[0mPerson\u001b[0m\u001b[0;34m(\u001b[0m\u001b[0;36m5\u001b[0m\u001b[0;34m,\u001b[0m\u001b[0;36m6\u001b[0m\u001b[0;34m)\u001b[0m\u001b[0;34m\u001b[0m\u001b[0;34m\u001b[0m\u001b[0m\n\u001b[0m",
      "\u001b[0;31mTypeError\u001b[0m: Person() takes no arguments"
     ]
    }
   ],
   "source": [
    "p=Person(5,6)"
   ]
  },
  {
   "cell_type": "code",
   "execution_count": 183,
   "id": "faa2a6bd",
   "metadata": {},
   "outputs": [
    {
     "ename": "TypeError",
     "evalue": "area() missing 1 required positional argument: 'y'",
     "output_type": "error",
     "traceback": [
      "\u001b[0;31m---------------------------------------------------------------------------\u001b[0m",
      "\u001b[0;31mTypeError\u001b[0m                                 Traceback (most recent call last)",
      "\u001b[0;32m/var/folders/61/r_vs5l1j7m91kw2v12g_zjsr0000gn/T/ipykernel_727/1941143880.py\u001b[0m in \u001b[0;36m<module>\u001b[0;34m\u001b[0m\n\u001b[0;32m----> 1\u001b[0;31m \u001b[0marea\u001b[0m\u001b[0;34m(\u001b[0m\u001b[0;36m5\u001b[0m\u001b[0;34m)\u001b[0m\u001b[0;34m\u001b[0m\u001b[0;34m\u001b[0m\u001b[0m\n\u001b[0m",
      "\u001b[0;31mTypeError\u001b[0m: area() missing 1 required positional argument: 'y'"
     ]
    }
   ],
   "source": [
    "area(5)"
   ]
  },
  {
   "cell_type": "code",
   "execution_count": null,
   "id": "80785e84",
   "metadata": {},
   "outputs": [],
   "source": []
  }
 ],
 "metadata": {
  "kernelspec": {
   "display_name": "Python 3 (ipykernel)",
   "language": "python",
   "name": "python3"
  },
  "language_info": {
   "codemirror_mode": {
    "name": "ipython",
    "version": 3
   },
   "file_extension": ".py",
   "mimetype": "text/x-python",
   "name": "python",
   "nbconvert_exporter": "python",
   "pygments_lexer": "ipython3",
   "version": "3.9.7"
  }
 },
 "nbformat": 4,
 "nbformat_minor": 5
}
