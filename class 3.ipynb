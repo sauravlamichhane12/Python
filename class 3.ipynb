{
 "cells": [
  {
   "cell_type": "code",
   "execution_count": 2,
   "id": "7eb2a571",
   "metadata": {},
   "outputs": [],
   "source": [
    "dict1={\n",
    "    'Name' :'James Bond',\n",
    "    'car': 'BMW',\n",
    "    'Model':'Z8'\n",
    "}"
   ]
  },
  {
   "cell_type": "code",
   "execution_count": 4,
   "id": "a7d98d2e",
   "metadata": {},
   "outputs": [
    {
     "data": {
      "text/plain": [
       "dict_keys(['Name', 'car', 'Model'])"
      ]
     },
     "execution_count": 4,
     "metadata": {},
     "output_type": "execute_result"
    }
   ],
   "source": [
    "dict1.keys()"
   ]
  },
  {
   "cell_type": "code",
   "execution_count": 5,
   "id": "3d1ca6e6",
   "metadata": {},
   "outputs": [
    {
     "data": {
      "text/plain": [
       "dict_values(['James Bond', 'BMW', 'Z8'])"
      ]
     },
     "execution_count": 5,
     "metadata": {},
     "output_type": "execute_result"
    }
   ],
   "source": [
    "dict1.values()"
   ]
  },
  {
   "cell_type": "code",
   "execution_count": 6,
   "id": "c21334a7",
   "metadata": {},
   "outputs": [
    {
     "data": {
      "text/plain": [
       "3"
      ]
     },
     "execution_count": 6,
     "metadata": {},
     "output_type": "execute_result"
    }
   ],
   "source": [
    "len(dict1)"
   ]
  },
  {
   "cell_type": "code",
   "execution_count": 7,
   "id": "1d335325",
   "metadata": {},
   "outputs": [],
   "source": [
    "dict1['car']='lotus'"
   ]
  },
  {
   "cell_type": "code",
   "execution_count": 8,
   "id": "322e5ac9",
   "metadata": {},
   "outputs": [
    {
     "data": {
      "text/plain": [
       "{'Name': 'James Bond', 'car': 'lotus', 'Model': 'Z8'}"
      ]
     },
     "execution_count": 8,
     "metadata": {},
     "output_type": "execute_result"
    }
   ],
   "source": [
    "dict1"
   ]
  },
  {
   "cell_type": "code",
   "execution_count": 9,
   "id": "7db704a7",
   "metadata": {},
   "outputs": [],
   "source": [
    "dict1['Model']='Esprit'"
   ]
  },
  {
   "cell_type": "code",
   "execution_count": 10,
   "id": "1331b25e",
   "metadata": {},
   "outputs": [
    {
     "data": {
      "text/plain": [
       "{'Name': 'James Bond', 'car': 'lotus', 'Model': 'Esprit'}"
      ]
     },
     "execution_count": 10,
     "metadata": {},
     "output_type": "execute_result"
    }
   ],
   "source": [
    "dict1"
   ]
  },
  {
   "cell_type": "code",
   "execution_count": 11,
   "id": "431a1627",
   "metadata": {},
   "outputs": [],
   "source": [
    "dict2={\n",
    "    'Actor':'Daniel Craig'\n",
    "    \n",
    "}"
   ]
  },
  {
   "cell_type": "code",
   "execution_count": 12,
   "id": "0dccb05c",
   "metadata": {},
   "outputs": [
    {
     "ename": "NameError",
     "evalue": "name 'length' is not defined",
     "output_type": "error",
     "traceback": [
      "\u001b[0;31m---------------------------------------------------------------------------\u001b[0m",
      "\u001b[0;31mNameError\u001b[0m                                 Traceback (most recent call last)",
      "\u001b[0;32m/var/folders/61/r_vs5l1j7m91kw2v12g_zjsr0000gn/T/ipykernel_6978/2723318052.py\u001b[0m in \u001b[0;36m<module>\u001b[0;34m\u001b[0m\n\u001b[0;32m----> 1\u001b[0;31m \u001b[0mlength\u001b[0m\u001b[0;34m(\u001b[0m\u001b[0mdict2\u001b[0m\u001b[0;34m)\u001b[0m\u001b[0;34m\u001b[0m\u001b[0;34m\u001b[0m\u001b[0m\n\u001b[0m",
      "\u001b[0;31mNameError\u001b[0m: name 'length' is not defined"
     ]
    }
   ],
   "source": [
    "length(dict2)"
   ]
  },
  {
   "cell_type": "code",
   "execution_count": 13,
   "id": "69659d37",
   "metadata": {},
   "outputs": [
    {
     "data": {
      "text/plain": [
       "1"
      ]
     },
     "execution_count": 13,
     "metadata": {},
     "output_type": "execute_result"
    }
   ],
   "source": [
    "len(dict2)"
   ]
  },
  {
   "cell_type": "code",
   "execution_count": 14,
   "id": "50a5a801",
   "metadata": {},
   "outputs": [],
   "source": [
    "dict1.update(dict2)"
   ]
  },
  {
   "cell_type": "code",
   "execution_count": 15,
   "id": "6f7663bb",
   "metadata": {},
   "outputs": [
    {
     "data": {
      "text/plain": [
       "{'Name': 'James Bond',\n",
       " 'car': 'lotus',\n",
       " 'Model': 'Esprit',\n",
       " 'Actor': 'Daniel Craig'}"
      ]
     },
     "execution_count": 15,
     "metadata": {},
     "output_type": "execute_result"
    }
   ],
   "source": [
    "dict1"
   ]
  },
  {
   "cell_type": "code",
   "execution_count": 16,
   "id": "d6f59f99",
   "metadata": {},
   "outputs": [
    {
     "data": {
      "text/plain": [
       "{'Actor': 'Daniel Craig'}"
      ]
     },
     "execution_count": 16,
     "metadata": {},
     "output_type": "execute_result"
    }
   ],
   "source": [
    "dict2"
   ]
  },
  {
   "cell_type": "code",
   "execution_count": 17,
   "id": "cc08674a",
   "metadata": {},
   "outputs": [
    {
     "data": {
      "text/plain": [
       "{'Name': 'James Bond',\n",
       " 'car': 'lotus',\n",
       " 'Model': 'Esprit',\n",
       " 'Actor': 'Daniel Craig'}"
      ]
     },
     "execution_count": 17,
     "metadata": {},
     "output_type": "execute_result"
    }
   ],
   "source": [
    "dict1"
   ]
  },
  {
   "cell_type": "code",
   "execution_count": 18,
   "id": "81d18525",
   "metadata": {},
   "outputs": [],
   "source": [
    "#it will automatically distroy the duplicate keys in dict3. lets see the output\n",
    "dict3={\n",
    "    'Name':'Saurav',\n",
    "    'Car':'Mercidies',\n",
    "    'Model': 'Esprit',\n",
    "    'Country':'Nepal',\n",
    "    'Country':'Nepal'\n",
    "}"
   ]
  },
  {
   "cell_type": "code",
   "execution_count": 19,
   "id": "35a1d069",
   "metadata": {},
   "outputs": [
    {
     "data": {
      "text/plain": [
       "{'Name': 'Saurav', 'Car': 'Mercidies', 'Model': 'Esprit', 'Country': 'Nepal'}"
      ]
     },
     "execution_count": 19,
     "metadata": {},
     "output_type": "execute_result"
    }
   ],
   "source": [
    "dict3"
   ]
  },
  {
   "cell_type": "code",
   "execution_count": 25,
   "id": "396679d2",
   "metadata": {},
   "outputs": [
    {
     "data": {
      "text/plain": [
       "'Nepal'"
      ]
     },
     "execution_count": 25,
     "metadata": {},
     "output_type": "execute_result"
    }
   ],
   "source": [
    "#To remove the keys in the dict3\n",
    "dict3.pop('Country')"
   ]
  },
  {
   "cell_type": "code",
   "execution_count": 42,
   "id": "42dd22bd",
   "metadata": {},
   "outputs": [
    {
     "data": {
      "text/plain": [
       "{'Name': 'Saurav', 'Model': 'Esprit'}"
      ]
     },
     "execution_count": 42,
     "metadata": {},
     "output_type": "execute_result"
    }
   ],
   "source": [
    "dict3"
   ]
  },
  {
   "cell_type": "code",
   "execution_count": 43,
   "id": "8d41a7e4",
   "metadata": {},
   "outputs": [
    {
     "data": {
      "text/plain": [
       "True"
      ]
     },
     "execution_count": 43,
     "metadata": {},
     "output_type": "execute_result"
    }
   ],
   "source": [
    "'Name' in dict3"
   ]
  },
  {
   "cell_type": "code",
   "execution_count": 44,
   "id": "e07cae45",
   "metadata": {},
   "outputs": [
    {
     "data": {
      "text/plain": [
       "False"
      ]
     },
     "execution_count": 44,
     "metadata": {},
     "output_type": "execute_result"
    }
   ],
   "source": [
    "'Nepal' in dict3.values()"
   ]
  },
  {
   "cell_type": "markdown",
   "id": "0c863a81",
   "metadata": {},
   "source": [
    "# String Manupilation"
   ]
  },
  {
   "cell_type": "code",
   "execution_count": 52,
   "id": "8e019628",
   "metadata": {},
   "outputs": [],
   "source": [
    "s='Hello World'"
   ]
  },
  {
   "cell_type": "code",
   "execution_count": 53,
   "id": "b954bec3",
   "metadata": {},
   "outputs": [
    {
     "data": {
      "text/plain": [
       "True"
      ]
     },
     "execution_count": 53,
     "metadata": {},
     "output_type": "execute_result"
    }
   ],
   "source": [
    "'H' in s"
   ]
  },
  {
   "cell_type": "code",
   "execution_count": 54,
   "id": "0b95f8a1",
   "metadata": {},
   "outputs": [
    {
     "data": {
      "text/plain": [
       "True"
      ]
     },
     "execution_count": 54,
     "metadata": {},
     "output_type": "execute_result"
    }
   ],
   "source": [
    "'W' in s"
   ]
  },
  {
   "cell_type": "code",
   "execution_count": 55,
   "id": "553137e3",
   "metadata": {},
   "outputs": [
    {
     "data": {
      "text/plain": [
       "False"
      ]
     },
     "execution_count": 55,
     "metadata": {},
     "output_type": "execute_result"
    }
   ],
   "source": [
    "'T ' in s"
   ]
  },
  {
   "cell_type": "code",
   "execution_count": 56,
   "id": "6cc0ef7b",
   "metadata": {},
   "outputs": [
    {
     "data": {
      "text/plain": [
       "['Hello', 'World']"
      ]
     },
     "execution_count": 56,
     "metadata": {},
     "output_type": "execute_result"
    }
   ],
   "source": [
    "s.split()"
   ]
  },
  {
   "cell_type": "code",
   "execution_count": 59,
   "id": "d05bc7eb",
   "metadata": {},
   "outputs": [
    {
     "data": {
      "text/plain": [
       "['Hello', 'World']"
      ]
     },
     "execution_count": 59,
     "metadata": {},
     "output_type": "execute_result"
    }
   ],
   "source": [
    "s.split(' ')"
   ]
  },
  {
   "cell_type": "code",
   "execution_count": 63,
   "id": "ce54032f",
   "metadata": {},
   "outputs": [],
   "source": [
    "user_name = 'i_wanna_feelgood'"
   ]
  },
  {
   "cell_type": "code",
   "execution_count": 64,
   "id": "1e043d85",
   "metadata": {},
   "outputs": [
    {
     "data": {
      "text/plain": [
       "'i_wanna_feelgood'"
      ]
     },
     "execution_count": 64,
     "metadata": {},
     "output_type": "execute_result"
    }
   ],
   "source": [
    "user_name"
   ]
  },
  {
   "cell_type": "code",
   "execution_count": 65,
   "id": "c0d3132f",
   "metadata": {},
   "outputs": [
    {
     "data": {
      "text/plain": [
       "['i', 'wanna', 'feelgood']"
      ]
     },
     "execution_count": 65,
     "metadata": {},
     "output_type": "execute_result"
    }
   ],
   "source": [
    "user_name.split('_')"
   ]
  },
  {
   "cell_type": "code",
   "execution_count": 71,
   "id": "c4758ef0",
   "metadata": {},
   "outputs": [
    {
     "data": {
      "text/plain": [
       "'i wanna feelgood'"
      ]
     },
     "execution_count": 71,
     "metadata": {},
     "output_type": "execute_result"
    }
   ],
   "source": [
    "user_name.replace('_', ' ')"
   ]
  },
  {
   "cell_type": "code",
   "execution_count": 73,
   "id": "ea6a6d85",
   "metadata": {},
   "outputs": [],
   "source": [
    "new_string = 'I am yours fathers brother friends cousin sister'"
   ]
  },
  {
   "cell_type": "code",
   "execution_count": 80,
   "id": "dec56e2f",
   "metadata": {},
   "outputs": [
    {
     "data": {
      "text/plain": [
       "['I', 'am', 'yours', 'fathers', 'brother', 'friends', 'cousin', 'sister']"
      ]
     },
     "execution_count": 80,
     "metadata": {},
     "output_type": "execute_result"
    }
   ],
   "source": [
    "new_string.split(' ')"
   ]
  },
  {
   "cell_type": "code",
   "execution_count": 84,
   "id": "90fdafc1",
   "metadata": {},
   "outputs": [
    {
     "data": {
      "text/plain": [
       "['I', 'AM', 'YOURS', 'FATHERS', 'BROTHER', 'FRIENDS', 'COUSIN', 'SISTER']"
      ]
     },
     "execution_count": 84,
     "metadata": {},
     "output_type": "execute_result"
    }
   ],
   "source": [
    "new_string.upper().split(' ')"
   ]
  },
  {
   "cell_type": "code",
   "execution_count": 82,
   "id": "5e6cd0fc",
   "metadata": {},
   "outputs": [
    {
     "data": {
      "text/plain": [
       "'I AM YOURS FATHERS BROTHER FRIENDS COUSIN SISTER'"
      ]
     },
     "execution_count": 82,
     "metadata": {},
     "output_type": "execute_result"
    }
   ],
   "source": [
    "new_string.upper()"
   ]
  },
  {
   "cell_type": "markdown",
   "id": "168edf5e",
   "metadata": {},
   "source": [
    "# User input"
   ]
  },
  {
   "cell_type": "code",
   "execution_count": 87,
   "id": "1b6f623f",
   "metadata": {},
   "outputs": [
    {
     "name": "stdout",
     "output_type": "stream",
     "text": [
      "Your name is:saurav\n"
     ]
    }
   ],
   "source": [
    "name = input('Your name is:')"
   ]
  },
  {
   "cell_type": "code",
   "execution_count": 88,
   "id": "59860ff1",
   "metadata": {},
   "outputs": [
    {
     "data": {
      "text/plain": [
       "'saurav'"
      ]
     },
     "execution_count": 88,
     "metadata": {},
     "output_type": "execute_result"
    }
   ],
   "source": [
    "name"
   ]
  },
  {
   "cell_type": "code",
   "execution_count": 184,
   "id": "60eecdec",
   "metadata": {},
   "outputs": [
    {
     "name": "stdout",
     "output_type": "stream",
     "text": [
      "Enter your number3\n",
      "Enter your second number4\n",
      "The sum of two number is: 7\n"
     ]
    }
   ],
   "source": [
    "\n",
    "num1 = input('Enter your number')\n",
    "num2 = input('Enter your second number')\n",
    "num1 = int(num1)\n",
    "num2 = int(num2)\n",
    "add = num1 + num2\n",
    "print('The sum of two number is:', add)\n",
    "\n",
    "\n"
   ]
  },
  {
   "cell_type": "code",
   "execution_count": 121,
   "id": "b4cd6e33",
   "metadata": {},
   "outputs": [
    {
     "name": "stdout",
     "output_type": "stream",
     "text": [
      "Your name is:saurav lamichhane\n"
     ]
    }
   ],
   "source": [
    "name = input('Your name is:')"
   ]
  },
  {
   "cell_type": "code",
   "execution_count": 112,
   "id": "3cca99b1",
   "metadata": {},
   "outputs": [
    {
     "data": {
      "text/plain": [
       "'hari bahadur'"
      ]
     },
     "execution_count": 112,
     "metadata": {},
     "output_type": "execute_result"
    }
   ],
   "source": [
    "name"
   ]
  },
  {
   "cell_type": "markdown",
   "id": "93b8ce0f",
   "metadata": {},
   "source": [
    "name.split()"
   ]
  },
  {
   "cell_type": "code",
   "execution_count": 122,
   "id": "4209f636",
   "metadata": {},
   "outputs": [
    {
     "data": {
      "text/plain": [
       "['saurav', 'lamichhane']"
      ]
     },
     "execution_count": 122,
     "metadata": {},
     "output_type": "execute_result"
    }
   ],
   "source": [
    "name.split()"
   ]
  },
  {
   "cell_type": "code",
   "execution_count": 123,
   "id": "617518b6",
   "metadata": {},
   "outputs": [
    {
     "data": {
      "text/plain": [
       "['saurav', 'lamichhane']"
      ]
     },
     "execution_count": 123,
     "metadata": {},
     "output_type": "execute_result"
    }
   ],
   "source": [
    "name.split()"
   ]
  },
  {
   "cell_type": "code",
   "execution_count": null,
   "id": "6e0a6a12",
   "metadata": {},
   "outputs": [],
   "source": []
  },
  {
   "cell_type": "code",
   "execution_count": 124,
   "id": "b0d83588",
   "metadata": {},
   "outputs": [],
   "source": [
    "fullname = name.split()"
   ]
  },
  {
   "cell_type": "code",
   "execution_count": 125,
   "id": "2f056154",
   "metadata": {},
   "outputs": [
    {
     "data": {
      "text/plain": [
       "['saurav', 'lamichhane']"
      ]
     },
     "execution_count": 125,
     "metadata": {},
     "output_type": "execute_result"
    }
   ],
   "source": [
    "fullname"
   ]
  },
  {
   "cell_type": "code",
   "execution_count": 131,
   "id": "c16817bc",
   "metadata": {},
   "outputs": [
    {
     "name": "stdout",
     "output_type": "stream",
     "text": [
      "F.Name:saurav, L.Name: lamichhane\n"
     ]
    }
   ],
   "source": [
    "print(f'F.Name:{fullname[0]}, L.Name: {fullname[1]}')"
   ]
  },
  {
   "cell_type": "code",
   "execution_count": 164,
   "id": "743fe91d",
   "metadata": {},
   "outputs": [
    {
     "name": "stdout",
     "output_type": "stream",
     "text": [
      "Enter Two numbers: 2 4\n"
     ]
    }
   ],
   "source": [
    "num = input('Enter Two numbers: ')"
   ]
  },
  {
   "cell_type": "code",
   "execution_count": 165,
   "id": "f4020dfe",
   "metadata": {},
   "outputs": [],
   "source": [
    "a= num.split()"
   ]
  },
  {
   "cell_type": "code",
   "execution_count": 166,
   "id": "f115b744",
   "metadata": {},
   "outputs": [
    {
     "data": {
      "text/plain": [
       "['2', '4']"
      ]
     },
     "execution_count": 166,
     "metadata": {},
     "output_type": "execute_result"
    }
   ],
   "source": [
    "a\n",
    "\n",
    "\n"
   ]
  },
  {
   "cell_type": "code",
   "execution_count": 167,
   "id": "fbef3abb",
   "metadata": {},
   "outputs": [],
   "source": [
    "a[0] = int(a[0])\n",
    "a[1] = int(a[1])"
   ]
  },
  {
   "cell_type": "code",
   "execution_count": 168,
   "id": "a95a1fda",
   "metadata": {},
   "outputs": [
    {
     "data": {
      "text/plain": [
       "[2, 4]"
      ]
     },
     "execution_count": 168,
     "metadata": {},
     "output_type": "execute_result"
    }
   ],
   "source": [
    "a"
   ]
  },
  {
   "cell_type": "code",
   "execution_count": 175,
   "id": "4ce8becb",
   "metadata": {},
   "outputs": [],
   "source": [
    "sum= int (a[0]+a[1])"
   ]
  },
  {
   "cell_type": "code",
   "execution_count": 176,
   "id": "9b823c27",
   "metadata": {},
   "outputs": [
    {
     "data": {
      "text/plain": [
       "6"
      ]
     },
     "execution_count": 176,
     "metadata": {},
     "output_type": "execute_result"
    }
   ],
   "source": [
    "sum"
   ]
  },
  {
   "cell_type": "code",
   "execution_count": 177,
   "id": "1b6357d4",
   "metadata": {},
   "outputs": [
    {
     "name": "stdout",
     "output_type": "stream",
     "text": [
      "Enter two number : 4 6\n"
     ]
    }
   ],
   "source": [
    "b = input(\"Enter two number : \")"
   ]
  },
  {
   "cell_type": "code",
   "execution_count": 178,
   "id": "5471778a",
   "metadata": {},
   "outputs": [
    {
     "data": {
      "text/plain": [
       "['4', '6']"
      ]
     },
     "execution_count": 178,
     "metadata": {},
     "output_type": "execute_result"
    }
   ],
   "source": [
    "b.split()"
   ]
  },
  {
   "cell_type": "code",
   "execution_count": 180,
   "id": "9898ebe6",
   "metadata": {},
   "outputs": [
    {
     "data": {
      "text/plain": [
       "4"
      ]
     },
     "execution_count": 180,
     "metadata": {},
     "output_type": "execute_result"
    }
   ],
   "source": [
    "add = int(b[0]+ b[1])\n",
    "add"
   ]
  },
  {
   "cell_type": "code",
   "execution_count": null,
   "id": "4f1684fe",
   "metadata": {},
   "outputs": [],
   "source": []
  }
 ],
 "metadata": {
  "kernelspec": {
   "display_name": "Python 3 (ipykernel)",
   "language": "python",
   "name": "python3"
  },
  "language_info": {
   "codemirror_mode": {
    "name": "ipython",
    "version": 3
   },
   "file_extension": ".py",
   "mimetype": "text/x-python",
   "name": "python",
   "nbconvert_exporter": "python",
   "pygments_lexer": "ipython3",
   "version": "3.9.7"
  }
 },
 "nbformat": 4,
 "nbformat_minor": 5
}
