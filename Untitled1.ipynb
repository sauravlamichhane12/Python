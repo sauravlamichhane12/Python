{
 "cells": [
  {
   "cell_type": "code",
   "execution_count": 29,
   "id": "2e2caa94",
   "metadata": {},
   "outputs": [],
   "source": [
    "class Shape:\n",
    "    def __init__(self, name, no_of_sides, side_length ):\n",
    "        self.name=name\n",
    "        self.no_of_sides=no_of_sides\n",
    "        self.side_length=side_length\n",
    "    def display_info(self,):\n",
    "        return (f'the name of {self.name} which has {self.no_of_sides} and the side_length is {self.side_length}')\n",
    "    "
   ]
  },
  {
   "cell_type": "code",
   "execution_count": 30,
   "id": "0e44ded2",
   "metadata": {},
   "outputs": [],
   "source": [
    "class Square(Shape):\n",
    "    def __init__(self, name, no_of_sides, side_length):\n",
    "        super().__init__(name, no_of_sides, side_length)\n",
    "    def area(self,):\n",
    "        return self.side_length *self.side_length"
   ]
  },
  {
   "cell_type": "code",
   "execution_count": 31,
   "id": "6d8bfb9b",
   "metadata": {},
   "outputs": [],
   "source": [
    "s1=Square('area', 2, 3)"
   ]
  },
  {
   "cell_type": "code",
   "execution_count": 32,
   "id": "29949d24",
   "metadata": {},
   "outputs": [
    {
     "data": {
      "text/plain": [
       "'the name of area which has 2 and the side_length is 3'"
      ]
     },
     "execution_count": 32,
     "metadata": {},
     "output_type": "execute_result"
    }
   ],
   "source": [
    "s1.display_info()"
   ]
  },
  {
   "cell_type": "code",
   "execution_count": 33,
   "id": "039af73b",
   "metadata": {},
   "outputs": [
    {
     "data": {
      "text/plain": [
       "9"
      ]
     },
     "execution_count": 33,
     "metadata": {},
     "output_type": "execute_result"
    }
   ],
   "source": [
    "s1.area()"
   ]
  },
  {
   "cell_type": "code",
   "execution_count": 34,
   "id": "fa00b187",
   "metadata": {},
   "outputs": [],
   "source": [
    "t1=Shape('squre', 5 ,6)"
   ]
  },
  {
   "cell_type": "code",
   "execution_count": 35,
   "id": "aea85a46",
   "metadata": {},
   "outputs": [
    {
     "data": {
      "text/plain": [
       "'the name of squre which has 5 and the side_length is 6'"
      ]
     },
     "execution_count": 35,
     "metadata": {},
     "output_type": "execute_result"
    }
   ],
   "source": [
    "t1.display_info()"
   ]
  },
  {
   "cell_type": "code",
   "execution_count": 36,
   "id": "466a7743",
   "metadata": {},
   "outputs": [
    {
     "ename": "AttributeError",
     "evalue": "'Shape' object has no attribute 'area'",
     "output_type": "error",
     "traceback": [
      "\u001b[0;31m---------------------------------------------------------------------------\u001b[0m",
      "\u001b[0;31mAttributeError\u001b[0m                            Traceback (most recent call last)",
      "\u001b[0;32m/var/folders/61/r_vs5l1j7m91kw2v12g_zjsr0000gn/T/ipykernel_76239/2523514102.py\u001b[0m in \u001b[0;36m<module>\u001b[0;34m\u001b[0m\n\u001b[0;32m----> 1\u001b[0;31m \u001b[0mt1\u001b[0m\u001b[0;34m.\u001b[0m\u001b[0marea\u001b[0m\u001b[0;34m(\u001b[0m\u001b[0;34m)\u001b[0m\u001b[0;34m\u001b[0m\u001b[0;34m\u001b[0m\u001b[0m\n\u001b[0m",
      "\u001b[0;31mAttributeError\u001b[0m: 'Shape' object has no attribute 'area'"
     ]
    }
   ],
   "source": [
    "t1.area()"
   ]
  },
  {
   "cell_type": "code",
   "execution_count": 37,
   "id": "e7f82f78",
   "metadata": {},
   "outputs": [],
   "source": [
    "f1=Square('area', 2, 3)"
   ]
  },
  {
   "cell_type": "code",
   "execution_count": 38,
   "id": "0408bc8d",
   "metadata": {},
   "outputs": [
    {
     "data": {
      "text/plain": [
       "9"
      ]
     },
     "execution_count": 38,
     "metadata": {},
     "output_type": "execute_result"
    }
   ],
   "source": [
    "f1.area()"
   ]
  },
  {
   "cell_type": "code",
   "execution_count": 39,
   "id": "c9bc7e14",
   "metadata": {},
   "outputs": [
    {
     "data": {
      "text/plain": [
       "'the name of area which has 2 and the side_length is 3'"
      ]
     },
     "execution_count": 39,
     "metadata": {},
     "output_type": "execute_result"
    }
   ],
   "source": [
    "f1.display_info()"
   ]
  },
  {
   "cell_type": "code",
   "execution_count": 43,
   "id": "513ebd2d",
   "metadata": {},
   "outputs": [],
   "source": [
    "import math\n",
    "class Hexagon(Shape):\n",
    "    def __init__(self, name, no_of_sides, side_length):\n",
    "        super().__init__( name, no_of_sides, side_length)\n",
    "    def area(self,):\n",
    "        return (3 * math.sqrt(3) * (self.side_length) **2/4)"
   ]
  },
  {
   "cell_type": "code",
   "execution_count": 44,
   "id": "15c617a4",
   "metadata": {},
   "outputs": [],
   "source": [
    "h1 = Hexagon('hexagon', 4, 5)"
   ]
  },
  {
   "cell_type": "code",
   "execution_count": 45,
   "id": "282c696d",
   "metadata": {},
   "outputs": [
    {
     "data": {
      "text/plain": [
       "32.47595264191645"
      ]
     },
     "execution_count": 45,
     "metadata": {},
     "output_type": "execute_result"
    }
   ],
   "source": [
    "h1.area()"
   ]
  },
  {
   "cell_type": "code",
   "execution_count": 53,
   "id": "4cb84dc8",
   "metadata": {},
   "outputs": [],
   "source": [
    "class Triangle(Shape):\n",
    "    def __init__(self, name, no_of_sides, side_length):\n",
    "                super().__init__( name, no_of_sides, side_length)\n",
    "    def area(self,):\n",
    "        return ( math.sqrt(3) * (self.side_length * self.side_length)/4)"
   ]
  },
  {
   "cell_type": "code",
   "execution_count": 54,
   "id": "919a050c",
   "metadata": {},
   "outputs": [],
   "source": [
    "t1=Triangle('traingle', 3 ,4)"
   ]
  },
  {
   "cell_type": "code",
   "execution_count": 55,
   "id": "5f8fd95a",
   "metadata": {},
   "outputs": [
    {
     "data": {
      "text/plain": [
       "6.928203230275509"
      ]
     },
     "execution_count": 55,
     "metadata": {},
     "output_type": "execute_result"
    }
   ],
   "source": [
    "t1.area()"
   ]
  },
  {
   "cell_type": "markdown",
   "id": "754533ed",
   "metadata": {},
   "source": [
    "# sql"
   ]
  },
  {
   "cell_type": "code",
   "execution_count": 56,
   "id": "bd13e32a",
   "metadata": {},
   "outputs": [],
   "source": [
    "import sqlite3"
   ]
  },
  {
   "cell_type": "code",
   "execution_count": 57,
   "id": "991f3079",
   "metadata": {},
   "outputs": [],
   "source": [
    "conn = sqlite3.connect('db.sqlite3')"
   ]
  },
  {
   "cell_type": "code",
   "execution_count": 58,
   "id": "938a2bb5",
   "metadata": {},
   "outputs": [],
   "source": [
    "cur = conn.cursor()"
   ]
  },
  {
   "cell_type": "code",
   "execution_count": 68,
   "id": "ceded348",
   "metadata": {},
   "outputs": [
    {
     "data": {
      "text/plain": [
       "<sqlite3.Cursor at 0x7fedcf019730>"
      ]
     },
     "execution_count": 68,
     "metadata": {},
     "output_type": "execute_result"
    }
   ],
   "source": [
    "create = '''\n",
    "CREATE TABLE IF NOT EXISTS USER(\n",
    "    ID INTEGER PRIMARY KEY AUTOINCREMENT,\n",
    "    NAME STRING NOT NULL,\n",
    "    ADDRESS STRING NOT NULL,\n",
    "    AGE INTEGER NULL,\n",
    "    GENDER STRING NULL\n",
    "\n",
    ");\n",
    "'''\n",
    "\n",
    "cur.execute(create)"
   ]
  },
  {
   "cell_type": "code",
   "execution_count": 70,
   "id": "c6a17d20",
   "metadata": {},
   "outputs": [],
   "source": [
    "#always use double sql query\n",
    "update =\"\"\"\n",
    "INSERT INTO USER('NAME', 'ADDRESS', 'AGE')\n",
    "VALUES('RADHA PYARI', 'SUNWAL', 18);\n",
    "\"\"\""
   ]
  },
  {
   "cell_type": "code",
   "execution_count": 71,
   "id": "31a9439c",
   "metadata": {},
   "outputs": [
    {
     "data": {
      "text/plain": [
       "<sqlite3.Cursor at 0x7fedcf019730>"
      ]
     },
     "execution_count": 71,
     "metadata": {},
     "output_type": "execute_result"
    }
   ],
   "source": [
    "cur.execute(update)"
   ]
  },
  {
   "cell_type": "code",
   "execution_count": 72,
   "id": "5f436c07",
   "metadata": {},
   "outputs": [],
   "source": [
    "read =\"\"\"\n",
    "SELECT * FROM USER\n",
    "\"\"\"\n",
    "data = cur.execute(read)"
   ]
  },
  {
   "cell_type": "code",
   "execution_count": 73,
   "id": "762ae21b",
   "metadata": {},
   "outputs": [
    {
     "data": {
      "text/plain": [
       "[(1, 'RADHA PYARI', 'SUNWAL', 18, None)]"
      ]
     },
     "execution_count": 73,
     "metadata": {},
     "output_type": "execute_result"
    }
   ],
   "source": [
    "data.fetchall()"
   ]
  },
  {
   "cell_type": "code",
   "execution_count": 75,
   "id": "21e85665",
   "metadata": {},
   "outputs": [
    {
     "data": {
      "text/plain": [
       "<sqlite3.Cursor at 0x7fedcf019730>"
      ]
     },
     "execution_count": 75,
     "metadata": {},
     "output_type": "execute_result"
    }
   ],
   "source": [
    "update=\"\"\"\n",
    "INSERT INTO USER('NAME', 'ADDRESS', 'AGE', 'Gender')\n",
    "VALUES('Ghanasahyam', 'baitadi', 18, 'male');\n",
    "\"\"\"\n",
    "cur.execute(update)"
   ]
  },
  {
   "cell_type": "code",
   "execution_count": 76,
   "id": "64b2ccd0",
   "metadata": {},
   "outputs": [],
   "source": [
    "read =\"\"\"\n",
    "SELECT * FROM USER\n",
    "\"\"\"\n",
    "data = cur.execute(read)"
   ]
  },
  {
   "cell_type": "code",
   "execution_count": 77,
   "id": "d74e2857",
   "metadata": {},
   "outputs": [
    {
     "data": {
      "text/plain": [
       "[(1, 'RADHA PYARI', 'SUNWAL', 18, None),\n",
       " (2, 'Ghanasahyam', 'baitadi', 18, 'male')]"
      ]
     },
     "execution_count": 77,
     "metadata": {},
     "output_type": "execute_result"
    }
   ],
   "source": [
    "data.fetchall()"
   ]
  },
  {
   "cell_type": "code",
   "execution_count": 79,
   "id": "02bb6d23",
   "metadata": {},
   "outputs": [
    {
     "data": {
      "text/plain": [
       "[('RADHA PYARI', 'SUNWAL'),\n",
       " ('Ghanasahyam', 'baitadi'),\n",
       " ('Ghanasahyam', 'baitadi')]"
      ]
     },
     "execution_count": 79,
     "metadata": {},
     "output_type": "execute_result"
    }
   ],
   "source": [
    "query =\"\"\"\n",
    "select name, address from user\n",
    "\"\"\"\n",
    "data = cur.execute(query)\n",
    "\n",
    "data.fetchall()"
   ]
  },
  {
   "cell_type": "code",
   "execution_count": 80,
   "id": "feb1708f",
   "metadata": {},
   "outputs": [
    {
     "data": {
      "text/plain": [
       "[('Ghanasahyam', 'baitadi'), ('Ghanasahyam', 'baitadi')]"
      ]
     },
     "execution_count": 80,
     "metadata": {},
     "output_type": "execute_result"
    }
   ],
   "source": [
    "query =\"\"\"\n",
    "select name, address from user where ADDRESS = 'baitadi'\n",
    "\"\"\"\n",
    "data = cur.execute(query)\n",
    "\n",
    "data.fetchall()"
   ]
  },
  {
   "cell_type": "code",
   "execution_count": 81,
   "id": "c92f3e45",
   "metadata": {},
   "outputs": [],
   "source": [
    "info=[\n",
    "    ['Hari bahadur', 'kritipur', 60, 'gender'],\n",
    "    ['Misiri maya', 'kritipur', 60, 'Female'],\n",
    "    ['Madan bahdur', 'krhokha', 60, 'male'],\n",
    "    \n",
    "]"
   ]
  },
  {
   "cell_type": "code",
   "execution_count": null,
   "id": "158a119e",
   "metadata": {},
   "outputs": [],
   "source": []
  }
 ],
 "metadata": {
  "kernelspec": {
   "display_name": "Python 3 (ipykernel)",
   "language": "python",
   "name": "python3"
  },
  "language_info": {
   "codemirror_mode": {
    "name": "ipython",
    "version": 3
   },
   "file_extension": ".py",
   "mimetype": "text/x-python",
   "name": "python",
   "nbconvert_exporter": "python",
   "pygments_lexer": "ipython3",
   "version": "3.9.7"
  }
 },
 "nbformat": 4,
 "nbformat_minor": 5
}
