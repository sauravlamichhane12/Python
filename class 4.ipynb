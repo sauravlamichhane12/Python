{
 "cells": [
  {
   "cell_type": "code",
   "execution_count": 1,
   "id": "05ab1ad7",
   "metadata": {},
   "outputs": [
    {
     "name": "stdout",
     "output_type": "stream",
     "text": [
      "Enter your first number4\n",
      "ENter your second number:7\n",
      "The sum is : 11\n",
      "The sub is: -3\n",
      "The mul is: 28\n",
      "the div is: 0.5714285714285714\n"
     ]
    }
   ],
   "source": [
    "a =input('Enter your first number')\n",
    "b= input('ENter your second number:')\n",
    "a = int(a)\n",
    "b = int(b)\n",
    "print('The sum is :', a+b)\n",
    "print('The sub is:', a-b)\n",
    "print('The mul is:', a*b)\n",
    "print('the div is:', a/b)"
   ]
  },
  {
   "cell_type": "code",
   "execution_count": 64,
   "id": "51ecbac5",
   "metadata": {},
   "outputs": [
    {
     "name": "stdout",
     "output_type": "stream",
     "text": [
      "8 0\n"
     ]
    }
   ],
   "source": [
    "#Excepting handling\n",
    "user_input = input()"
   ]
  },
  {
   "cell_type": "code",
   "execution_count": 65,
   "id": "6c1d7d69",
   "metadata": {},
   "outputs": [
    {
     "data": {
      "text/plain": [
       "'8 0'"
      ]
     },
     "execution_count": 65,
     "metadata": {},
     "output_type": "execute_result"
    }
   ],
   "source": [
    "user_input"
   ]
  },
  {
   "cell_type": "code",
   "execution_count": 66,
   "id": "b07d719f",
   "metadata": {},
   "outputs": [],
   "source": [
    "a, b = user_input.split(' ')"
   ]
  },
  {
   "cell_type": "code",
   "execution_count": 67,
   "id": "7100dbe4",
   "metadata": {},
   "outputs": [
    {
     "data": {
      "text/plain": [
       "'8'"
      ]
     },
     "execution_count": 67,
     "metadata": {},
     "output_type": "execute_result"
    }
   ],
   "source": [
    "a"
   ]
  },
  {
   "cell_type": "code",
   "execution_count": 68,
   "id": "d451908c",
   "metadata": {},
   "outputs": [
    {
     "data": {
      "text/plain": [
       "'0'"
      ]
     },
     "execution_count": 68,
     "metadata": {},
     "output_type": "execute_result"
    }
   ],
   "source": [
    "b"
   ]
  },
  {
   "cell_type": "code",
   "execution_count": 69,
   "id": "05f866d0",
   "metadata": {},
   "outputs": [
    {
     "data": {
      "text/plain": [
       "'8'"
      ]
     },
     "execution_count": 69,
     "metadata": {},
     "output_type": "execute_result"
    }
   ],
   "source": [
    "a[0]"
   ]
  },
  {
   "cell_type": "code",
   "execution_count": 70,
   "id": "9797092d",
   "metadata": {},
   "outputs": [],
   "source": [
    "a= int(a)\n",
    "b = int(b)"
   ]
  },
  {
   "cell_type": "code",
   "execution_count": 71,
   "id": "ae560cf6",
   "metadata": {},
   "outputs": [
    {
     "data": {
      "text/plain": [
       "8"
      ]
     },
     "execution_count": 71,
     "metadata": {},
     "output_type": "execute_result"
    }
   ],
   "source": [
    "a"
   ]
  },
  {
   "cell_type": "code",
   "execution_count": 72,
   "id": "efdff6b8",
   "metadata": {},
   "outputs": [
    {
     "data": {
      "text/plain": [
       "0"
      ]
     },
     "execution_count": 72,
     "metadata": {},
     "output_type": "execute_result"
    }
   ],
   "source": [
    "b"
   ]
  },
  {
   "cell_type": "code",
   "execution_count": 73,
   "id": "f780126b",
   "metadata": {},
   "outputs": [
    {
     "name": "stdout",
     "output_type": "stream",
     "text": [
      "The sum is : 8\n",
      "The sub is: 8\n",
      "The mul is: 0\n",
      "Cannot divide by zero\n"
     ]
    }
   ],
   "source": [
    "try:\n",
    "    print('The sum is :', a+b)\n",
    "    print('The sub is:', a-b)\n",
    "    print('The mul is:', a*b)\n",
    "    print('The div is:', a/b)\n",
    "except ZeroDivisionError:\n",
    "    print('Cannot divide by zero')"
   ]
  },
  {
   "cell_type": "code",
   "execution_count": 74,
   "id": "8fac49a5",
   "metadata": {},
   "outputs": [
    {
     "name": "stdout",
     "output_type": "stream",
     "text": [
      "Enter your pandrom number12321\n"
     ]
    }
   ],
   "source": [
    "a= input('Enter your pandrom number:')"
   ]
  },
  {
   "cell_type": "code",
   "execution_count": 76,
   "id": "4969e892",
   "metadata": {},
   "outputs": [],
   "source": [
    "n = [1, 3, 5]"
   ]
  },
  {
   "cell_type": "raw",
   "id": "2b7d4ab3",
   "metadata": {},
   "source": [
    "n.reverse()"
   ]
  },
  {
   "cell_type": "code",
   "execution_count": 78,
   "id": "fea7ff95",
   "metadata": {},
   "outputs": [],
   "source": [
    "n.reverse()"
   ]
  },
  {
   "cell_type": "code",
   "execution_count": 79,
   "id": "f16f0faf",
   "metadata": {},
   "outputs": [
    {
     "data": {
      "text/plain": [
       "[5, 3, 1]"
      ]
     },
     "execution_count": 79,
     "metadata": {},
     "output_type": "execute_result"
    }
   ],
   "source": [
    "n"
   ]
  },
  {
   "cell_type": "code",
   "execution_count": 80,
   "id": "ee23c5a8",
   "metadata": {},
   "outputs": [
    {
     "name": "stdout",
     "output_type": "stream",
     "text": [
      "Enter Something12321\n"
     ]
    },
    {
     "data": {
      "text/plain": [
       "'12321'"
      ]
     },
     "execution_count": 80,
     "metadata": {},
     "output_type": "execute_result"
    }
   ],
   "source": [
    "user_input = input('Enter Something')\n",
    "user_input\n",
    "user_input[::-1]\n",
    "user_input == user_input[::-1]"
   ]
  },
  {
   "cell_type": "code",
   "execution_count": 81,
   "id": "edf85b23",
   "metadata": {},
   "outputs": [
    {
     "data": {
      "text/plain": [
       "True"
      ]
     },
     "execution_count": 81,
     "metadata": {},
     "output_type": "execute_result"
    }
   ],
   "source": []
  },
  {
   "cell_type": "code",
   "execution_count": 82,
   "id": "da46bdb3",
   "metadata": {},
   "outputs": [],
   "source": [
    "numbers = [1, 2, 5,6,7, 8]"
   ]
  },
  {
   "cell_type": "code",
   "execution_count": 97,
   "id": "9ce9e885",
   "metadata": {},
   "outputs": [
    {
     "name": "stdout",
     "output_type": "stream",
     "text": [
      "Enter Something12345\n"
     ]
    }
   ],
   "source": [
    "a = input('Enter Something')\n",
    "b = a[::-1]"
   ]
  },
  {
   "cell_type": "code",
   "execution_count": 101,
   "id": "4cc3257b",
   "metadata": {},
   "outputs": [
    {
     "name": "stdout",
     "output_type": "stream",
     "text": [
      "Enter your number12321\n",
      "This is palindrome\n"
     ]
    }
   ],
   "source": [
    "user_input = input('Enter your number')\n",
    "if user_input == user_input[::-1]:\n",
    "     print('This is palindrome')\n",
    "else:\n",
    "    print('This is not palindrome')"
   ]
  },
  {
   "cell_type": "code",
   "execution_count": 104,
   "id": "96df3ae8",
   "metadata": {},
   "outputs": [
    {
     "name": "stdout",
     "output_type": "stream",
     "text": [
      "Enter the number:'6'\n",
      "This is false\n"
     ]
    }
   ],
   "source": [
    "a = input('Enter the number:')\n",
    "if a ==6:\n",
    "    print('This is true')\n",
    "else:\n",
    "    print('This is false')"
   ]
  },
  {
   "cell_type": "code",
   "execution_count": 130,
   "id": "6787af21",
   "metadata": {},
   "outputs": [
    {
     "name": "stdout",
     "output_type": "stream",
     "text": [
      "Today is sun day\n"
     ]
    }
   ],
   "source": [
    "a = 'input('Enter the todays day:')'\n",
    "if a == 'sun':\n",
    "    print('Today is sun day')\n",
    "elif a == 'mon':\n",
    "    print('Today is mon day')\n",
    "elif a=='Tue':\n",
    "    print('Today is tue')\n",
    "elif a =='wed':\n",
    "    print('Today ius wed')\n",
    "elif a == 'thur':\n",
    "    print('today is thursday')\n",
    "elif a == 'fri':\n",
    "    print('today is friday')\n",
    "elif a =='saturday':\n",
    "    print('today is friday')   \n",
    "else :\n",
    "    print('this is not your day')\n"
   ]
  },
  {
   "cell_type": "code",
   "execution_count": 16,
   "id": "2226c7f6",
   "metadata": {},
   "outputs": [
    {
     "name": "stdout",
     "output_type": "stream",
     "text": [
      "Enter your percentage:23\n",
      "You are fail\n"
     ]
    }
   ],
   "source": [
    "a = input('Enter your percentage:')\n",
    "a = int(a)\n",
    "if a >= 80:\n",
    "    print('Congrats you are distinction holder')\n",
    "elif a >= 60 :\n",
    "    print('first division')\n",
    "elif a >= 50 :\n",
    "    print(' pass')\n",
    "elif a>=40:\n",
    "    print('Just pass')\n",
    "else:\n",
    "    print('You are fail')\n"
   ]
  },
  {
   "cell_type": "code",
   "execution_count": 14,
   "id": "fb91b1ea",
   "metadata": {},
   "outputs": [
    {
     "data": {
      "text/plain": [
       "[0, 1, 2, 3, 4, 5, 6, 7, 8, 9]"
      ]
     },
     "execution_count": 14,
     "metadata": {},
     "output_type": "execute_result"
    }
   ],
   "source": [
    "list(range(10))"
   ]
  },
  {
   "cell_type": "code",
   "execution_count": 2,
   "id": "2688a1d1",
   "metadata": {},
   "outputs": [
    {
     "data": {
      "text/plain": [
       "[5, 10, 15, 20]"
      ]
     },
     "execution_count": 2,
     "metadata": {},
     "output_type": "execute_result"
    }
   ],
   "source": [
    "list(range(5, 25, 5))"
   ]
  },
  {
   "cell_type": "code",
   "execution_count": 1,
   "id": "f763ddf0",
   "metadata": {},
   "outputs": [
    {
     "name": "stdout",
     "output_type": "stream",
     "text": [
      "0\n",
      "1\n",
      "2\n",
      "3\n",
      "4\n",
      "5\n",
      "6\n",
      "7\n",
      "8\n",
      "9\n",
      "10\n"
     ]
    }
   ],
   "source": [
    "#loop\n",
    "#while looop\n",
    "i = 0\n",
    "while i<=10:\n",
    "    print(i)\n",
    "    i +=1"
   ]
  },
  {
   "cell_type": "code",
   "execution_count": 17,
   "id": "e7220365",
   "metadata": {},
   "outputs": [
    {
     "name": "stdout",
     "output_type": "stream",
     "text": [
      "fizz buzz\n",
      "1\n",
      "2\n",
      "Fizz\n",
      "4\n",
      "buzz\n",
      "Fizz\n",
      "7\n",
      "8\n",
      "Fizz\n",
      "buzz\n",
      "11\n",
      "Fizz\n",
      "13\n",
      "14\n",
      "fizz buzz\n",
      "16\n",
      "17\n",
      "Fizz\n",
      "19\n",
      "buzz\n",
      "Fizz\n",
      "22\n",
      "23\n",
      "Fizz\n"
     ]
    }
   ],
   "source": [
    "#For loop\n",
    "for x in range(25):\n",
    "    if x%3==0 and x%5==0:\n",
    "        print('fizz buzz') \n",
    "        continue\n",
    "    elif x%5 == 0:\n",
    "        print('buzz')\n",
    "        continue\n",
    "    elif x%3 ==0:\n",
    "        print('Fizz')\n",
    "        continue\n",
    "    else:\n",
    "        print(x)"
   ]
  },
  {
   "cell_type": "code",
   "execution_count": 7,
   "id": "c5af7d38",
   "metadata": {},
   "outputs": [
    {
     "data": {
      "text/plain": [
       "[0, 1, 2, 3, 4, 5, 6, 7, 8]"
      ]
     },
     "execution_count": 7,
     "metadata": {},
     "output_type": "execute_result"
    }
   ],
   "source": [
    "list(range(9))"
   ]
  },
  {
   "cell_type": "code",
   "execution_count": 36,
   "id": "b2e6f26c",
   "metadata": {},
   "outputs": [
    {
     "name": "stdout",
     "output_type": "stream",
     "text": [
      "Enter your age:19\n",
      "You can drive\n"
     ]
    }
   ],
   "source": [
    "a = input('Enter your age:')\n",
    "a= int(a)\n",
    "# print('Your age is:', a)\n",
    "#Conditional operators\n",
    "#>, <, >=, <=, ==, !=\n",
    "# print(a>18)\n",
    "# print(a<18)\n",
    "# print(a<=18)\n",
    "# print(a==18)\n",
    "if (a>=18):\n",
    "    print('You can drive')\n",
    "else:\n",
    "    print('You cannot drive')"
   ]
  },
  {
   "cell_type": "code",
   "execution_count": 31,
   "id": "b09de8b1",
   "metadata": {},
   "outputs": [
    {
     "name": "stdout",
     "output_type": "stream",
     "text": [
      "i will buy it\n"
     ]
    }
   ],
   "source": [
    "appleprice =200\n",
    "budget = 210\n",
    "if appleprice<budget:\n",
    "    print(\"i will buy it\")\n",
    "elif appleprice>budget:\n",
    "    pritn('i wont buy it')"
   ]
  },
  {
   "cell_type": "code",
   "execution_count": 46,
   "id": "4f88122a",
   "metadata": {},
   "outputs": [
    {
     "name": "stdout",
     "output_type": "stream",
     "text": [
      "Enter the number:9\n",
      "False\n"
     ]
    }
   ],
   "source": [
    "x = int(input('Enter the number:'))\n",
    "if x%5==2:\n",
    "    print('True')\n",
    "else:\n",
    "    print('False')"
   ]
  },
  {
   "cell_type": "code",
   "execution_count": null,
   "id": "d5f582c6",
   "metadata": {},
   "outputs": [],
   "source": [
    "x = int(input('Enter your number:'))\n",
    "if x<0:\n",
    "    print('This is negative number')\n",
    "elif x>0:\n",
    "    if x<=10:\n",
    "        print('This is between 1 to 10')\n",
    "    elif x>10 and x<=20:\n",
    "        print('THis is between 10 to 20')\n",
    "    else:\n",
    "        print('The number is greater than 20')\n",
    "else:\n",
    "    print('Number is zero')"
   ]
  },
  {
   "cell_type": "code",
   "execution_count": null,
   "id": "2bfc5a5b",
   "metadata": {},
   "outputs": [],
   "source": []
  }
 ],
 "metadata": {
  "kernelspec": {
   "display_name": "Python 3 (ipykernel)",
   "language": "python",
   "name": "python3"
  },
  "language_info": {
   "codemirror_mode": {
    "name": "ipython",
    "version": 3
   },
   "file_extension": ".py",
   "mimetype": "text/x-python",
   "name": "python",
   "nbconvert_exporter": "python",
   "pygments_lexer": "ipython3",
   "version": "3.9.7"
  }
 },
 "nbformat": 4,
 "nbformat_minor": 5
}
